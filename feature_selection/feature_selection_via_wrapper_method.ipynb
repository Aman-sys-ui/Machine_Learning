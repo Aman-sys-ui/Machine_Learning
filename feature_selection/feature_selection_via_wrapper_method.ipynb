{
  "nbformat": 4,
  "nbformat_minor": 0,
  "metadata": {
    "colab": {
      "provenance": [],
      "authorship_tag": "ABX9TyNFffw3tVT3mwhKwN8RzfeG"
    },
    "kernelspec": {
      "name": "python3",
      "display_name": "Python 3"
    },
    "language_info": {
      "name": "python"
    }
  },
  "cells": [
    {
      "cell_type": "markdown",
      "source": [
        "# Wrapper Methods for Feature Selection\n",
        "\n",
        "## Introduction\n",
        "In machine learning, not all features are equally useful. Some add noise, some duplicate the same information, and some don’t help at all.  \n",
        "That’s why **feature selection** is so important — it reduces overfitting, improves interpretability, and often makes models run faster.  \n",
        "\n",
        "You might already know about **[Filter method ](https://github.com/Aman-sys-ui/Machine_Learning/blob/main/feature_selection/Feature_Selection_Via_Filter_Method.ipynb).**\n",
        " (like correlation and chi-square tests). They are quick and simple, but they only look at each feature **individually**, without considering how features work **together**.  \n",
        "\n",
        "\n",
        "\n",
        "This is where **Wrapper Methods** come in.  \n",
        "Instead of judging features one by one, wrapper methods **wrap a machine learning model around the feature selection process** and test different feature subsets to find the best combination.  \n",
        "They are slower than filter methods, but much smarter, because they directly optimize for model performance.\n",
        "\n",
        "---\n",
        "\n",
        "## Intuition\n",
        "\n",
        "Think of feature selection like cooking:  \n",
        "- **Filter Methods** are like tasting each ingredient separately to see if it’s good.  \n",
        "- **Wrapper Methods** are like actually trying out different recipes (combinations of ingredients) and picking the one that tastes the best.  \n",
        "\n",
        "In other words:  \n",
        "- Wrapper methods don’t just ask, *“Is this feature good on its own?”*  \n",
        "- They ask, *“Does this feature help when combined with others to improve the model?”*\n",
        "\n",
        "---\n",
        "\n",
        "## What I will Cover\n",
        "1. Exhaustive Feature Selection (Try out all possibilities )\n",
        "1. Forward Selection (start with none, keep adding useful ones).  \n",
        "2. Backward Elimination (start with all, remove useless ones).  \n",
        "3. Recursive Feature Elimination (step-by-step pruning).  \n",
        "4. Compare performance before and after feature selection.  \n",
        "5. Discuss **limitations** and **when to use wrapper methods**.  \n",
        "\n",
        "By the end, this notebook will feel like a mini **guidebook** for wrapper methods — helpful for both learners and professionals.\n"
      ],
      "metadata": {
        "id": "B0ElT0kgAKcq"
      }
    },
    {
      "cell_type": "markdown",
      "source": [
        "# Baseline Model for Comparison Without Any Feature Selection"
      ],
      "metadata": {
        "id": "lCSZ9-DhUGI5"
      }
    },
    {
      "cell_type": "code",
      "source": [
        "import numpy as np\n",
        "import pandas as pd\n",
        "import matplotlib.pyplot as plt\n",
        "from sklearn.datasets import load_breast_cancer\n",
        "from sklearn.datasets import load_iris\n",
        "from sklearn.model_selection import train_test_split , cross_val_score\n",
        "from sklearn.preprocessing import StandardScaler\n",
        "from sklearn.linear_model import LogisticRegression\n",
        "from sklearn.pipeline import Pipeline\n",
        "from sklearn.metrics import accuracy_score , confusion_matrix,classification_report\n",
        "from mlxtend.feature_selection import ExhaustiveFeatureSelector as EFS\n",
        "\n"
      ],
      "metadata": {
        "id": "_nR7NVnwULSp"
      },
      "execution_count": null,
      "outputs": []
    },
    {
      "cell_type": "code",
      "source": [
        "# load dataset\n",
        "data = load_iris()\n",
        "X = pd.DataFrame(data.data , columns = data.feature_names)\n",
        "y = data.target"
      ],
      "metadata": {
        "id": "qY7o8DgHUMa2"
      },
      "execution_count": null,
      "outputs": []
    },
    {
      "cell_type": "code",
      "source": [
        "print(\"shape of the data : \", X.shape)\n",
        "print(\"Missing values :\\n\" ,X.isnull().sum().sort_values(ascending = False ).head())"
      ],
      "metadata": {
        "colab": {
          "base_uri": "https://localhost:8080/"
        },
        "id": "JltKc-o4UMX_",
        "outputId": "33144804-d96a-4785-e07e-990e9ac88a0e"
      },
      "execution_count": null,
      "outputs": [
        {
          "output_type": "stream",
          "name": "stdout",
          "text": [
            "shape of the data :  (150, 4)\n",
            "Missing values :\n",
            " sepal length (cm)    0\n",
            "sepal width (cm)     0\n",
            "petal length (cm)    0\n",
            "petal width (cm)     0\n",
            "dtype: int64\n"
          ]
        }
      ]
    },
    {
      "cell_type": "code",
      "source": [
        "# train test split\n",
        "X_train , X_test ,y_train, y_test = train_test_split(X ,y ,test_size=0.2 , random_state=42 , stratify=y)"
      ],
      "metadata": {
        "id": "y2yHoA_LUMU2"
      },
      "execution_count": null,
      "outputs": []
    },
    {
      "cell_type": "code",
      "source": [
        "std = StandardScaler()\n",
        "X_train = std.fit_transform(X_train)\n",
        "X_test = std.transform(X_test)"
      ],
      "metadata": {
        "id": "ncs3i-UjUMSE"
      },
      "execution_count": null,
      "outputs": []
    },
    {
      "cell_type": "code",
      "source": [
        "# Logistic regression as base moddel\n",
        "base_model = LogisticRegression(max_iter = 5000)\n",
        "base_model.fit(X_train ,y_train)"
      ],
      "metadata": {
        "colab": {
          "base_uri": "https://localhost:8080/",
          "height": 80
        },
        "id": "PkVef-GlUi7P",
        "outputId": "4875a2f0-620c-4c8e-b9b8-567012483108"
      },
      "execution_count": null,
      "outputs": [
        {
          "output_type": "execute_result",
          "data": {
            "text/plain": [
              "LogisticRegression(max_iter=5000)"
            ],
            "text/html": [
              "<style>#sk-container-id-1 {\n",
              "  /* Definition of color scheme common for light and dark mode */\n",
              "  --sklearn-color-text: #000;\n",
              "  --sklearn-color-text-muted: #666;\n",
              "  --sklearn-color-line: gray;\n",
              "  /* Definition of color scheme for unfitted estimators */\n",
              "  --sklearn-color-unfitted-level-0: #fff5e6;\n",
              "  --sklearn-color-unfitted-level-1: #f6e4d2;\n",
              "  --sklearn-color-unfitted-level-2: #ffe0b3;\n",
              "  --sklearn-color-unfitted-level-3: chocolate;\n",
              "  /* Definition of color scheme for fitted estimators */\n",
              "  --sklearn-color-fitted-level-0: #f0f8ff;\n",
              "  --sklearn-color-fitted-level-1: #d4ebff;\n",
              "  --sklearn-color-fitted-level-2: #b3dbfd;\n",
              "  --sklearn-color-fitted-level-3: cornflowerblue;\n",
              "\n",
              "  /* Specific color for light theme */\n",
              "  --sklearn-color-text-on-default-background: var(--sg-text-color, var(--theme-code-foreground, var(--jp-content-font-color1, black)));\n",
              "  --sklearn-color-background: var(--sg-background-color, var(--theme-background, var(--jp-layout-color0, white)));\n",
              "  --sklearn-color-border-box: var(--sg-text-color, var(--theme-code-foreground, var(--jp-content-font-color1, black)));\n",
              "  --sklearn-color-icon: #696969;\n",
              "\n",
              "  @media (prefers-color-scheme: dark) {\n",
              "    /* Redefinition of color scheme for dark theme */\n",
              "    --sklearn-color-text-on-default-background: var(--sg-text-color, var(--theme-code-foreground, var(--jp-content-font-color1, white)));\n",
              "    --sklearn-color-background: var(--sg-background-color, var(--theme-background, var(--jp-layout-color0, #111)));\n",
              "    --sklearn-color-border-box: var(--sg-text-color, var(--theme-code-foreground, var(--jp-content-font-color1, white)));\n",
              "    --sklearn-color-icon: #878787;\n",
              "  }\n",
              "}\n",
              "\n",
              "#sk-container-id-1 {\n",
              "  color: var(--sklearn-color-text);\n",
              "}\n",
              "\n",
              "#sk-container-id-1 pre {\n",
              "  padding: 0;\n",
              "}\n",
              "\n",
              "#sk-container-id-1 input.sk-hidden--visually {\n",
              "  border: 0;\n",
              "  clip: rect(1px 1px 1px 1px);\n",
              "  clip: rect(1px, 1px, 1px, 1px);\n",
              "  height: 1px;\n",
              "  margin: -1px;\n",
              "  overflow: hidden;\n",
              "  padding: 0;\n",
              "  position: absolute;\n",
              "  width: 1px;\n",
              "}\n",
              "\n",
              "#sk-container-id-1 div.sk-dashed-wrapped {\n",
              "  border: 1px dashed var(--sklearn-color-line);\n",
              "  margin: 0 0.4em 0.5em 0.4em;\n",
              "  box-sizing: border-box;\n",
              "  padding-bottom: 0.4em;\n",
              "  background-color: var(--sklearn-color-background);\n",
              "}\n",
              "\n",
              "#sk-container-id-1 div.sk-container {\n",
              "  /* jupyter's `normalize.less` sets `[hidden] { display: none; }`\n",
              "     but bootstrap.min.css set `[hidden] { display: none !important; }`\n",
              "     so we also need the `!important` here to be able to override the\n",
              "     default hidden behavior on the sphinx rendered scikit-learn.org.\n",
              "     See: https://github.com/scikit-learn/scikit-learn/issues/21755 */\n",
              "  display: inline-block !important;\n",
              "  position: relative;\n",
              "}\n",
              "\n",
              "#sk-container-id-1 div.sk-text-repr-fallback {\n",
              "  display: none;\n",
              "}\n",
              "\n",
              "div.sk-parallel-item,\n",
              "div.sk-serial,\n",
              "div.sk-item {\n",
              "  /* draw centered vertical line to link estimators */\n",
              "  background-image: linear-gradient(var(--sklearn-color-text-on-default-background), var(--sklearn-color-text-on-default-background));\n",
              "  background-size: 2px 100%;\n",
              "  background-repeat: no-repeat;\n",
              "  background-position: center center;\n",
              "}\n",
              "\n",
              "/* Parallel-specific style estimator block */\n",
              "\n",
              "#sk-container-id-1 div.sk-parallel-item::after {\n",
              "  content: \"\";\n",
              "  width: 100%;\n",
              "  border-bottom: 2px solid var(--sklearn-color-text-on-default-background);\n",
              "  flex-grow: 1;\n",
              "}\n",
              "\n",
              "#sk-container-id-1 div.sk-parallel {\n",
              "  display: flex;\n",
              "  align-items: stretch;\n",
              "  justify-content: center;\n",
              "  background-color: var(--sklearn-color-background);\n",
              "  position: relative;\n",
              "}\n",
              "\n",
              "#sk-container-id-1 div.sk-parallel-item {\n",
              "  display: flex;\n",
              "  flex-direction: column;\n",
              "}\n",
              "\n",
              "#sk-container-id-1 div.sk-parallel-item:first-child::after {\n",
              "  align-self: flex-end;\n",
              "  width: 50%;\n",
              "}\n",
              "\n",
              "#sk-container-id-1 div.sk-parallel-item:last-child::after {\n",
              "  align-self: flex-start;\n",
              "  width: 50%;\n",
              "}\n",
              "\n",
              "#sk-container-id-1 div.sk-parallel-item:only-child::after {\n",
              "  width: 0;\n",
              "}\n",
              "\n",
              "/* Serial-specific style estimator block */\n",
              "\n",
              "#sk-container-id-1 div.sk-serial {\n",
              "  display: flex;\n",
              "  flex-direction: column;\n",
              "  align-items: center;\n",
              "  background-color: var(--sklearn-color-background);\n",
              "  padding-right: 1em;\n",
              "  padding-left: 1em;\n",
              "}\n",
              "\n",
              "\n",
              "/* Toggleable style: style used for estimator/Pipeline/ColumnTransformer box that is\n",
              "clickable and can be expanded/collapsed.\n",
              "- Pipeline and ColumnTransformer use this feature and define the default style\n",
              "- Estimators will overwrite some part of the style using the `sk-estimator` class\n",
              "*/\n",
              "\n",
              "/* Pipeline and ColumnTransformer style (default) */\n",
              "\n",
              "#sk-container-id-1 div.sk-toggleable {\n",
              "  /* Default theme specific background. It is overwritten whether we have a\n",
              "  specific estimator or a Pipeline/ColumnTransformer */\n",
              "  background-color: var(--sklearn-color-background);\n",
              "}\n",
              "\n",
              "/* Toggleable label */\n",
              "#sk-container-id-1 label.sk-toggleable__label {\n",
              "  cursor: pointer;\n",
              "  display: flex;\n",
              "  width: 100%;\n",
              "  margin-bottom: 0;\n",
              "  padding: 0.5em;\n",
              "  box-sizing: border-box;\n",
              "  text-align: center;\n",
              "  align-items: start;\n",
              "  justify-content: space-between;\n",
              "  gap: 0.5em;\n",
              "}\n",
              "\n",
              "#sk-container-id-1 label.sk-toggleable__label .caption {\n",
              "  font-size: 0.6rem;\n",
              "  font-weight: lighter;\n",
              "  color: var(--sklearn-color-text-muted);\n",
              "}\n",
              "\n",
              "#sk-container-id-1 label.sk-toggleable__label-arrow:before {\n",
              "  /* Arrow on the left of the label */\n",
              "  content: \"▸\";\n",
              "  float: left;\n",
              "  margin-right: 0.25em;\n",
              "  color: var(--sklearn-color-icon);\n",
              "}\n",
              "\n",
              "#sk-container-id-1 label.sk-toggleable__label-arrow:hover:before {\n",
              "  color: var(--sklearn-color-text);\n",
              "}\n",
              "\n",
              "/* Toggleable content - dropdown */\n",
              "\n",
              "#sk-container-id-1 div.sk-toggleable__content {\n",
              "  max-height: 0;\n",
              "  max-width: 0;\n",
              "  overflow: hidden;\n",
              "  text-align: left;\n",
              "  /* unfitted */\n",
              "  background-color: var(--sklearn-color-unfitted-level-0);\n",
              "}\n",
              "\n",
              "#sk-container-id-1 div.sk-toggleable__content.fitted {\n",
              "  /* fitted */\n",
              "  background-color: var(--sklearn-color-fitted-level-0);\n",
              "}\n",
              "\n",
              "#sk-container-id-1 div.sk-toggleable__content pre {\n",
              "  margin: 0.2em;\n",
              "  border-radius: 0.25em;\n",
              "  color: var(--sklearn-color-text);\n",
              "  /* unfitted */\n",
              "  background-color: var(--sklearn-color-unfitted-level-0);\n",
              "}\n",
              "\n",
              "#sk-container-id-1 div.sk-toggleable__content.fitted pre {\n",
              "  /* unfitted */\n",
              "  background-color: var(--sklearn-color-fitted-level-0);\n",
              "}\n",
              "\n",
              "#sk-container-id-1 input.sk-toggleable__control:checked~div.sk-toggleable__content {\n",
              "  /* Expand drop-down */\n",
              "  max-height: 200px;\n",
              "  max-width: 100%;\n",
              "  overflow: auto;\n",
              "}\n",
              "\n",
              "#sk-container-id-1 input.sk-toggleable__control:checked~label.sk-toggleable__label-arrow:before {\n",
              "  content: \"▾\";\n",
              "}\n",
              "\n",
              "/* Pipeline/ColumnTransformer-specific style */\n",
              "\n",
              "#sk-container-id-1 div.sk-label input.sk-toggleable__control:checked~label.sk-toggleable__label {\n",
              "  color: var(--sklearn-color-text);\n",
              "  background-color: var(--sklearn-color-unfitted-level-2);\n",
              "}\n",
              "\n",
              "#sk-container-id-1 div.sk-label.fitted input.sk-toggleable__control:checked~label.sk-toggleable__label {\n",
              "  background-color: var(--sklearn-color-fitted-level-2);\n",
              "}\n",
              "\n",
              "/* Estimator-specific style */\n",
              "\n",
              "/* Colorize estimator box */\n",
              "#sk-container-id-1 div.sk-estimator input.sk-toggleable__control:checked~label.sk-toggleable__label {\n",
              "  /* unfitted */\n",
              "  background-color: var(--sklearn-color-unfitted-level-2);\n",
              "}\n",
              "\n",
              "#sk-container-id-1 div.sk-estimator.fitted input.sk-toggleable__control:checked~label.sk-toggleable__label {\n",
              "  /* fitted */\n",
              "  background-color: var(--sklearn-color-fitted-level-2);\n",
              "}\n",
              "\n",
              "#sk-container-id-1 div.sk-label label.sk-toggleable__label,\n",
              "#sk-container-id-1 div.sk-label label {\n",
              "  /* The background is the default theme color */\n",
              "  color: var(--sklearn-color-text-on-default-background);\n",
              "}\n",
              "\n",
              "/* On hover, darken the color of the background */\n",
              "#sk-container-id-1 div.sk-label:hover label.sk-toggleable__label {\n",
              "  color: var(--sklearn-color-text);\n",
              "  background-color: var(--sklearn-color-unfitted-level-2);\n",
              "}\n",
              "\n",
              "/* Label box, darken color on hover, fitted */\n",
              "#sk-container-id-1 div.sk-label.fitted:hover label.sk-toggleable__label.fitted {\n",
              "  color: var(--sklearn-color-text);\n",
              "  background-color: var(--sklearn-color-fitted-level-2);\n",
              "}\n",
              "\n",
              "/* Estimator label */\n",
              "\n",
              "#sk-container-id-1 div.sk-label label {\n",
              "  font-family: monospace;\n",
              "  font-weight: bold;\n",
              "  display: inline-block;\n",
              "  line-height: 1.2em;\n",
              "}\n",
              "\n",
              "#sk-container-id-1 div.sk-label-container {\n",
              "  text-align: center;\n",
              "}\n",
              "\n",
              "/* Estimator-specific */\n",
              "#sk-container-id-1 div.sk-estimator {\n",
              "  font-family: monospace;\n",
              "  border: 1px dotted var(--sklearn-color-border-box);\n",
              "  border-radius: 0.25em;\n",
              "  box-sizing: border-box;\n",
              "  margin-bottom: 0.5em;\n",
              "  /* unfitted */\n",
              "  background-color: var(--sklearn-color-unfitted-level-0);\n",
              "}\n",
              "\n",
              "#sk-container-id-1 div.sk-estimator.fitted {\n",
              "  /* fitted */\n",
              "  background-color: var(--sklearn-color-fitted-level-0);\n",
              "}\n",
              "\n",
              "/* on hover */\n",
              "#sk-container-id-1 div.sk-estimator:hover {\n",
              "  /* unfitted */\n",
              "  background-color: var(--sklearn-color-unfitted-level-2);\n",
              "}\n",
              "\n",
              "#sk-container-id-1 div.sk-estimator.fitted:hover {\n",
              "  /* fitted */\n",
              "  background-color: var(--sklearn-color-fitted-level-2);\n",
              "}\n",
              "\n",
              "/* Specification for estimator info (e.g. \"i\" and \"?\") */\n",
              "\n",
              "/* Common style for \"i\" and \"?\" */\n",
              "\n",
              ".sk-estimator-doc-link,\n",
              "a:link.sk-estimator-doc-link,\n",
              "a:visited.sk-estimator-doc-link {\n",
              "  float: right;\n",
              "  font-size: smaller;\n",
              "  line-height: 1em;\n",
              "  font-family: monospace;\n",
              "  background-color: var(--sklearn-color-background);\n",
              "  border-radius: 1em;\n",
              "  height: 1em;\n",
              "  width: 1em;\n",
              "  text-decoration: none !important;\n",
              "  margin-left: 0.5em;\n",
              "  text-align: center;\n",
              "  /* unfitted */\n",
              "  border: var(--sklearn-color-unfitted-level-1) 1pt solid;\n",
              "  color: var(--sklearn-color-unfitted-level-1);\n",
              "}\n",
              "\n",
              ".sk-estimator-doc-link.fitted,\n",
              "a:link.sk-estimator-doc-link.fitted,\n",
              "a:visited.sk-estimator-doc-link.fitted {\n",
              "  /* fitted */\n",
              "  border: var(--sklearn-color-fitted-level-1) 1pt solid;\n",
              "  color: var(--sklearn-color-fitted-level-1);\n",
              "}\n",
              "\n",
              "/* On hover */\n",
              "div.sk-estimator:hover .sk-estimator-doc-link:hover,\n",
              ".sk-estimator-doc-link:hover,\n",
              "div.sk-label-container:hover .sk-estimator-doc-link:hover,\n",
              ".sk-estimator-doc-link:hover {\n",
              "  /* unfitted */\n",
              "  background-color: var(--sklearn-color-unfitted-level-3);\n",
              "  color: var(--sklearn-color-background);\n",
              "  text-decoration: none;\n",
              "}\n",
              "\n",
              "div.sk-estimator.fitted:hover .sk-estimator-doc-link.fitted:hover,\n",
              ".sk-estimator-doc-link.fitted:hover,\n",
              "div.sk-label-container:hover .sk-estimator-doc-link.fitted:hover,\n",
              ".sk-estimator-doc-link.fitted:hover {\n",
              "  /* fitted */\n",
              "  background-color: var(--sklearn-color-fitted-level-3);\n",
              "  color: var(--sklearn-color-background);\n",
              "  text-decoration: none;\n",
              "}\n",
              "\n",
              "/* Span, style for the box shown on hovering the info icon */\n",
              ".sk-estimator-doc-link span {\n",
              "  display: none;\n",
              "  z-index: 9999;\n",
              "  position: relative;\n",
              "  font-weight: normal;\n",
              "  right: .2ex;\n",
              "  padding: .5ex;\n",
              "  margin: .5ex;\n",
              "  width: min-content;\n",
              "  min-width: 20ex;\n",
              "  max-width: 50ex;\n",
              "  color: var(--sklearn-color-text);\n",
              "  box-shadow: 2pt 2pt 4pt #999;\n",
              "  /* unfitted */\n",
              "  background: var(--sklearn-color-unfitted-level-0);\n",
              "  border: .5pt solid var(--sklearn-color-unfitted-level-3);\n",
              "}\n",
              "\n",
              ".sk-estimator-doc-link.fitted span {\n",
              "  /* fitted */\n",
              "  background: var(--sklearn-color-fitted-level-0);\n",
              "  border: var(--sklearn-color-fitted-level-3);\n",
              "}\n",
              "\n",
              ".sk-estimator-doc-link:hover span {\n",
              "  display: block;\n",
              "}\n",
              "\n",
              "/* \"?\"-specific style due to the `<a>` HTML tag */\n",
              "\n",
              "#sk-container-id-1 a.estimator_doc_link {\n",
              "  float: right;\n",
              "  font-size: 1rem;\n",
              "  line-height: 1em;\n",
              "  font-family: monospace;\n",
              "  background-color: var(--sklearn-color-background);\n",
              "  border-radius: 1rem;\n",
              "  height: 1rem;\n",
              "  width: 1rem;\n",
              "  text-decoration: none;\n",
              "  /* unfitted */\n",
              "  color: var(--sklearn-color-unfitted-level-1);\n",
              "  border: var(--sklearn-color-unfitted-level-1) 1pt solid;\n",
              "}\n",
              "\n",
              "#sk-container-id-1 a.estimator_doc_link.fitted {\n",
              "  /* fitted */\n",
              "  border: var(--sklearn-color-fitted-level-1) 1pt solid;\n",
              "  color: var(--sklearn-color-fitted-level-1);\n",
              "}\n",
              "\n",
              "/* On hover */\n",
              "#sk-container-id-1 a.estimator_doc_link:hover {\n",
              "  /* unfitted */\n",
              "  background-color: var(--sklearn-color-unfitted-level-3);\n",
              "  color: var(--sklearn-color-background);\n",
              "  text-decoration: none;\n",
              "}\n",
              "\n",
              "#sk-container-id-1 a.estimator_doc_link.fitted:hover {\n",
              "  /* fitted */\n",
              "  background-color: var(--sklearn-color-fitted-level-3);\n",
              "}\n",
              "</style><div id=\"sk-container-id-1\" class=\"sk-top-container\"><div class=\"sk-text-repr-fallback\"><pre>LogisticRegression(max_iter=5000)</pre><b>In a Jupyter environment, please rerun this cell to show the HTML representation or trust the notebook. <br />On GitHub, the HTML representation is unable to render, please try loading this page with nbviewer.org.</b></div><div class=\"sk-container\" hidden><div class=\"sk-item\"><div class=\"sk-estimator fitted sk-toggleable\"><input class=\"sk-toggleable__control sk-hidden--visually\" id=\"sk-estimator-id-1\" type=\"checkbox\" checked><label for=\"sk-estimator-id-1\" class=\"sk-toggleable__label fitted sk-toggleable__label-arrow\"><div><div>LogisticRegression</div></div><div><a class=\"sk-estimator-doc-link fitted\" rel=\"noreferrer\" target=\"_blank\" href=\"https://scikit-learn.org/1.6/modules/generated/sklearn.linear_model.LogisticRegression.html\">?<span>Documentation for LogisticRegression</span></a><span class=\"sk-estimator-doc-link fitted\">i<span>Fitted</span></span></div></label><div class=\"sk-toggleable__content fitted\"><pre>LogisticRegression(max_iter=5000)</pre></div> </div></div></div></div>"
            ]
          },
          "metadata": {},
          "execution_count": 7
        }
      ]
    },
    {
      "cell_type": "code",
      "source": [
        "# prediction\n",
        "y_pred = base_model.predict(X_test)"
      ],
      "metadata": {
        "id": "rjDcpj6JU7XO"
      },
      "execution_count": null,
      "outputs": []
    },
    {
      "cell_type": "code",
      "source": [
        "# Baseline model (all features)\n",
        "baseline_scores = cross_val_score(base_model, X, y, cv=5, scoring=\"accuracy\")\n",
        "print(\"Baseline Mean CV Accuracy:\", baseline_scores.mean())"
      ],
      "metadata": {
        "colab": {
          "base_uri": "https://localhost:8080/"
        },
        "id": "-x2AAXVcmnQd",
        "outputId": "1e02f29f-be59-40af-8002-d468b1d7caa0"
      },
      "execution_count": null,
      "outputs": [
        {
          "output_type": "stream",
          "name": "stdout",
          "text": [
            "Baseline Mean CV Accuracy: 0.9733333333333334\n"
          ]
        }
      ]
    },
    {
      "cell_type": "code",
      "source": [
        "baseline_acuuracy = accuracy_score(y_test ,y_pred)\n",
        "print(\"Baseline Acuuracy score :\" ,baseline_acuuracy)\n",
        "print(\"Confusion matrix :\\n\" ,confusion_matrix(y_test ,y_pred))\n",
        "print(\"classification report:\" ,classification_report(y_test ,y_pred))"
      ],
      "metadata": {
        "colab": {
          "base_uri": "https://localhost:8080/"
        },
        "id": "SoQSgdjlUkVG",
        "outputId": "b865570e-e804-481b-978f-b80e35df9f99"
      },
      "execution_count": null,
      "outputs": [
        {
          "output_type": "stream",
          "name": "stdout",
          "text": [
            "Baseline Acuuracy score : 0.9333333333333333\n",
            "Confusion matrix :\n",
            " [[10  0  0]\n",
            " [ 0  9  1]\n",
            " [ 0  1  9]]\n",
            "classification report:               precision    recall  f1-score   support\n",
            "\n",
            "           0       1.00      1.00      1.00        10\n",
            "           1       0.90      0.90      0.90        10\n",
            "           2       0.90      0.90      0.90        10\n",
            "\n",
            "    accuracy                           0.93        30\n",
            "   macro avg       0.93      0.93      0.93        30\n",
            "weighted avg       0.93      0.93      0.93        30\n",
            "\n"
          ]
        }
      ]
    },
    {
      "cell_type": "markdown",
      "source": [
        "#1 .Exhaustive Feature Selection (EFS)\n",
        "\n",
        "## What is Exhaustive Feature Selection?\n",
        "Exhaustive Feature Selection tries **all possible combinations** of features and picks the best one.  \n",
        "It’s the most **brute-force** but also the most **reliable** way of finding the optimal feature subset.  \n",
        "\n",
        "For example, if you have 3 features (A, B, C), EFS will check:  \n",
        "- A  \n",
        "- B  \n",
        "- C  \n",
        "- A + B  \n",
        "- A + C  \n",
        "- B + C  \n",
        "- A + B + C  \n",
        "\n",
        "…and then pick the subset that gives the highest model performance.  \n",
        "\n",
        "---\n",
        "\n",
        "## Intuition\n",
        "Imagine you’re at an ice cream shop.  \n",
        "You’re not sure which flavor combo you’ll like the most, so you **try every possible combination** of scoops (vanilla, chocolate, strawberry, vanilla+chocolate, etc.) until you find your favorite.  \n",
        "\n",
        "That’s exactly what EFS does — it tries **every possible mix of features** to find the best set.\n"
      ],
      "metadata": {
        "id": "yh37qXCUTbCB"
      }
    },
    {
      "cell_type": "markdown",
      "source": [
        "Note: We are applying Exhaustive Feature Selection (EFS) on the Iris dataset.  \n",
        "Since the dataset has only 4 features, exhaustive search is computationally feasible.  \n",
        "On larger datasets (with >15 features), EFS can become extremely slow and impractical.\n"
      ],
      "metadata": {
        "id": "RCoGpMJHjxf-"
      }
    },
    {
      "cell_type": "code",
      "source": [
        "# logistic regression as base model\n",
        "log_reg = LogisticRegression(max_iter=5000)\n",
        "\n",
        "# exhaustive search >-- very slow if features > 15\n",
        "efs = EFS(log_reg,\n",
        "          min_features=1,\n",
        "          max_features= 4,   # to keep runtime reasonable\n",
        "          scoring=\"accuracy\",\n",
        "          cv=5,\n",
        "          n_jobs=-1)\n",
        "# too time consuming\n",
        "efs = efs.fit(X_train, y_train)\n",
        "\n"
      ],
      "metadata": {
        "id": "eayAkhJdTayG",
        "colab": {
          "base_uri": "https://localhost:8080/"
        },
        "outputId": "70ea05b5-845e-4c4e-f0f7-1ec3cc62c2e2"
      },
      "execution_count": null,
      "outputs": [
        {
          "output_type": "stream",
          "name": "stderr",
          "text": [
            "Features: 15/15"
          ]
        }
      ]
    },
    {
      "cell_type": "code",
      "source": [
        "print(\"Best CV Accuracy Score:\", efs.best_score_)\n",
        "print(\"Best Feature Subset:\", efs.best_feature_names_)\n"
      ],
      "metadata": {
        "id": "YVM-Jph0TavG",
        "colab": {
          "base_uri": "https://localhost:8080/"
        },
        "outputId": "4ec628de-99aa-49b4-9880-451abe5de1c1"
      },
      "execution_count": null,
      "outputs": [
        {
          "output_type": "stream",
          "name": "stdout",
          "text": [
            "Best CV Accuracy Score: 0.9666666666666668\n",
            "Best Feature Subset: ('3',)\n"
          ]
        }
      ]
    },
    {
      "cell_type": "markdown",
      "source": [
        "### Interpretation of EFS Results\n",
        "\n",
        "- The best accuracy score achieved was **96.67%** using just **one feature**: **Petal Width**.  \n",
        "- This is very interesting, because it shows that not all features are equally important — sometimes, a single feature can be highly predictive.  \n",
        "- In the Iris dataset, petal measurements (especially petal width) are known to separate the three flower species quite well.  \n",
        "- This aligns with what we expect from domain knowledge: **setosa flowers** usually have very small petals, while **virginica** has much larger ones.  \n"
      ],
      "metadata": {
        "id": "BJjcHlrWlkxt"
      }
    },
    {
      "cell_type": "code",
      "source": [
        "# Convert Results to DataFrame\n",
        "metric_dict = efs.get_metric_dict()\n",
        "metric_df = pd.DataFrame.from_dict(metric_dict).T\n",
        "\n",
        "# plot scores\n",
        "plt.figure(figsize=(12,6))\n",
        "plt.plot([str(m[\"feature_names\"]) for m in metric_dict.values()],\n",
        "         [m[\"avg_score\"] for m in metric_dict.values()],\n",
        "         marker=\"o\")\n",
        "plt.xticks(rotation=90)\n",
        "plt.xlabel(\"Feature Subset\")\n",
        "plt.ylabel(\"Cross-Validated Accuracy\")\n",
        "plt.title(\"Exhaustive Feature Selection Results\")\n",
        "plt.show()\n"
      ],
      "metadata": {
        "id": "HtAzB5JmTase",
        "colab": {
          "base_uri": "https://localhost:8080/",
          "height": 417
        },
        "outputId": "35833c1d-615f-4792-869c-7ea515042e5a"
      },
      "execution_count": null,
      "outputs": [
        {
          "output_type": "display_data",
          "data": {
            "text/plain": [
              "<Figure size 1200x600 with 1 Axes>"
            ],
            "image/png": "[encoded data removed]"
          },
          "metadata": {}
        }
      ]
    },
    {
      "cell_type": "code",
      "source": [
        "# EFS-selected model (petal width only)\n",
        "X_best = X.iloc[:, [3]]  # only feature index 3\n",
        "efs_scores = cross_val_score(log_reg, X_best, y, cv=5, scoring=\"accuracy\")\n",
        "print(\"EFS-Selected Features Mean CV Accuracy:\", efs_scores.mean())"
      ],
      "metadata": {
        "colab": {
          "base_uri": "https://localhost:8080/"
        },
        "id": "prO2WnPCm3um",
        "outputId": "a083d720-592d-44f7-9ed7-3b1b01e43bd3"
      },
      "execution_count": null,
      "outputs": [
        {
          "output_type": "stream",
          "name": "stdout",
          "text": [
            "EFS-Selected Features Mean CV Accuracy: 0.96\n"
          ]
        }
      ]
    },
    {
      "cell_type": "code",
      "source": [
        "scores = [baseline_scores.mean(), efs_scores.mean()]\n",
        "labels = [\"All Features\", \"EFS-Selected\"]\n",
        "\n",
        "plt.bar(labels, scores, color=[\"skyblue\", \"lightgreen\"])\n",
        "plt.ylabel(\"CV Accuracy\")\n",
        "plt.title(\"Baseline vs EFS-Selected Features\")\n",
        "plt.ylim(0.9, 1.0)  # zoom into accuracy range\n",
        "plt.show()\n"
      ],
      "metadata": {
        "colab": {
          "base_uri": "https://localhost:8080/",
          "height": 452
        },
        "id": "O7096hL6odcS",
        "outputId": "fe99be4a-f401-43a9-ae2a-10e6e85304cc"
      },
      "execution_count": null,
      "outputs": [
        {
          "output_type": "display_data",
          "data": {
            "text/plain": [
              "<Figure size 640x480 with 1 Axes>"
            ],
            "image/png": "[encoded data removed]"
          },
          "metadata": {}
        }
      ]
    },
    {
      "cell_type": "markdown",
      "source": [
        "### Cross-Validation Insights\n",
        "\n",
        "- Using **all 4 features**, Logistic Regression reached a mean CV accuracy of **97.3%**.  \n",
        "- Using only the **EFS-selected feature (Petal Width)**, the accuracy was **96.0%**.  \n",
        "\n",
        "This means we lose only about **1.3% accuracy** while reducing the model to a **single feature**.  \n",
        "\n",
        "**Practical takeaway:**  \n",
        "- In small datasets like Iris, a single strong feature can almost match the performance of all features.  \n",
        "- In real-world problems, feature selection is valuable for **reducing model complexity, training time, and avoiding overfitting** — even if it means trading off a tiny bit of accuracy.\n"
      ],
      "metadata": {
        "id": "pfXWcMNaZhQ_"
      }
    },
    {
      "cell_type": "markdown",
      "source": [
        "## Pros and Cons of Exhaustive Feature Selection (EFS)\n",
        "\n",
        "### Pros\n",
        "- **Gold Standard**: Finds the *truly best* subset of features because it literally tries every possible combination.  \n",
        "- **Benchmark Value**: Great for small datasets to serve as a baseline against which we can compare faster methods (Forward, Backward, RFE).  \n",
        "- **No Greedy Choices**: Unlike Forward/Backward Selection, it doesn’t get stuck with early “bad” choices, since it evaluates all subsets.  \n",
        "- **Interpretability**: Helps us understand exactly which features work best together.  \n",
        "\n",
        "Example:  \n",
        "If you only have 8 patient lab tests, EFS can try all possible subsets to identify the **perfect combination** for diagnosis.\n",
        "\n",
        "---\n",
        "\n",
        "### Cons\n",
        "- **Computationally Explosive**: With 30 features, there are over 1 billion subsets — runtime becomes impractical.  \n",
        "- **Not Scalable**: Cannot be used in high-dimensional datasets (like text, images, or genomics).  \n",
        "- **Overfitting Risk**: Since it explores so many combinations, it might find a subset that works great on training/cross-validation but doesn’t generalize well.  \n",
        "- **Slow in Practice**: Even with parallelization, it’s only feasible for small to medium feature spaces.  \n",
        "\n",
        "Example:  \n",
        "Trying EFS on a dataset with 100 features is like **testing every possible recipe in a cookbook with thousands of ingredients** — it’s just not realistic.  \n",
        "\n",
        "---\n",
        "\n",
        "**In short:**  \n",
        "EFS is the “gold standard” for feature selection, but only practical when you have **very few features**. For larger datasets, Forward, Backward, or RFE are better trade-offs between **accuracy and speed**.  \n"
      ],
      "metadata": {
        "id": "9GKWKMUMZ2I7"
      }
    },
    {
      "cell_type": "markdown",
      "source": [
        "# 2. Forward Selection\n",
        "\n",
        "**Idea:**  \n",
        "Forward selection starts with **no features**.  \n",
        "Then, it adds features **one by one** — at each step choosing the feature that improves the model performance the most.  \n",
        "The process continues until adding more features doesn’t make things better.\n",
        "\n",
        "**Intuition Example:**  \n",
        "Imagine you are packing items for a trip.  \n",
        "- You start with an empty bag.  \n",
        "- First, you add the most essential item (say, your passport).  \n",
        "- Then you add the next most useful (money, clothes, phone charger…).  \n",
        "- You stop adding when the bag is full enough, and more items would just make it heavy.  \n",
        "\n",
        "That’s exactly what forward selection does with features: build the “bag” step by step until performance stops improving.\n"
      ],
      "metadata": {
        "id": "57sKH3fnC5rO"
      }
    },
    {
      "cell_type": "code",
      "source": [
        "from sklearn.datasets import load_breast_cancer\n",
        "from mlxtend.feature_selection import SequentialFeatureSelector as SFS"
      ],
      "metadata": {
        "id": "XXe46iu1-hgC"
      },
      "execution_count": null,
      "outputs": []
    },
    {
      "cell_type": "code",
      "source": [
        "# datset\n",
        "data = load_breast_cancer()\n",
        "X = pd.DataFrame(data.data ,columns = data.feature_names)\n",
        "y = data.target"
      ],
      "metadata": {
        "id": "Iscp1xms-hcI"
      },
      "execution_count": null,
      "outputs": []
    },
    {
      "cell_type": "code",
      "source": [
        "# shape of datset\n",
        "print(\"Shape of X : \" ,X.shape)"
      ],
      "metadata": {
        "colab": {
          "base_uri": "https://localhost:8080/"
        },
        "id": "h0BHP1wo-hYv",
        "outputId": "693ea080-69c8-46a4-8c54-cd32580c4494"
      },
      "execution_count": null,
      "outputs": [
        {
          "output_type": "stream",
          "name": "stdout",
          "text": [
            "Shape of X :  (569, 30)\n"
          ]
        }
      ]
    },
    {
      "cell_type": "markdown",
      "source": [
        "# Model without SFS"
      ],
      "metadata": {
        "id": "t-Qfcp8P_uBk"
      }
    },
    {
      "cell_type": "code",
      "source": [
        "from sklearn.model_selection import cross_val_score\n",
        "\n",
        "# Baseline model (all features)\n",
        "X_train, X_test, y_train, y_test = train_test_split(X, y, random_state=42, test_size=0.2)\n",
        "\n",
        "# Standardize\n",
        "std = StandardScaler()\n",
        "X_train_scaled = std.fit_transform(X_train)\n",
        "X_test_scaled = std.transform(X_test)\n",
        "\n",
        "# Train baseline model (all features)\n",
        "log_reg = LogisticRegression(max_iter=5000, solver=\"liblinear\")\n",
        "log_reg.fit(X_train_scaled, y_train)\n",
        "\n",
        "# Predictions\n",
        "y_pred = log_reg.predict(X_test_scaled)\n",
        "\n",
        "# Evaluate\n",
        "baseline_cv_scores = cross_val_score(log_reg, X, y, cv=5, scoring=\"accuracy\")\n",
        "print(\"Baseline Mean CV Accuracy:\", baseline_cv_scores.mean())\n",
        "print(\"\\nClassification Report:\\n\", classification_report(y_test, y_pred))\n"
      ],
      "metadata": {
        "colab": {
          "base_uri": "https://localhost:8080/"
        },
        "id": "1K7LI-Jn_twn",
        "outputId": "9ae2f2fa-f31f-453c-c574-23dfe78c0713"
      },
      "execution_count": null,
      "outputs": [
        {
          "output_type": "stream",
          "name": "stdout",
          "text": [
            "Baseline Mean CV Accuracy: 0.9508150908244062\n",
            "\n",
            "Classification Report:\n",
            "               precision    recall  f1-score   support\n",
            "\n",
            "           0       0.98      0.95      0.96        43\n",
            "           1       0.97      0.99      0.98        71\n",
            "\n",
            "    accuracy                           0.97       114\n",
            "   macro avg       0.97      0.97      0.97       114\n",
            "weighted avg       0.97      0.97      0.97       114\n",
            "\n"
          ]
        }
      ]
    },
    {
      "cell_type": "code",
      "source": [
        "# forward selection\n",
        "sfs = SFS(\n",
        "    log_reg,\n",
        "    k_features =\"best\" ,\n",
        "    forward=True,       # forward selection\n",
        "    floating=False,     # strict forward, not stepwise\n",
        "    scoring=\"accuracy\",\n",
        "    cv=5,\n",
        "    n_jobs=-1\n",
        ")\n",
        "sfs = sfs.fit(X , y)"
      ],
      "metadata": {
        "id": "KUTmAvvVG9Vw"
      },
      "execution_count": null,
      "outputs": []
    },
    {
      "cell_type": "code",
      "source": [
        "#  Best feature indices\n",
        "selected_idx = list(sfs.k_feature_idx_)\n",
        "print(\"Selected Feature Indices:\", selected_idx)\n",
        "\n",
        "# Best feature names (if X is a DataFrame)\n",
        "selected_features = X.columns[selected_idx]\n",
        "print(\"Selected Features:\", list(selected_features))\n",
        "\n",
        "\n",
        "# CV score of the best subset\n",
        "print(\"Best CV Accuracy:\", sfs.k_score_)"
      ],
      "metadata": {
        "colab": {
          "base_uri": "https://localhost:8080/"
        },
        "id": "a4DFZA_EG9TA",
        "outputId": "ab226ea4-015e-436f-a583-3519cde57122"
      },
      "execution_count": null,
      "outputs": [
        {
          "output_type": "stream",
          "name": "stdout",
          "text": [
            "Selected Feature Indices: [4, 5, 6, 7, 8, 9, 10, 11, 14, 15, 16, 17, 18, 19, 21, 22, 24, 26, 27, 28, 29]\n",
            "Selected Features: ['mean smoothness', 'mean compactness', 'mean concavity', 'mean concave points', 'mean symmetry', 'mean fractal dimension', 'radius error', 'texture error', 'smoothness error', 'compactness error', 'concavity error', 'concave points error', 'symmetry error', 'fractal dimension error', 'worst texture', 'worst perimeter', 'worst smoothness', 'worst concavity', 'worst concave points', 'worst symmetry', 'worst fractal dimension']\n",
            "Best CV Accuracy: 0.9578481602235678\n"
          ]
        }
      ]
    },
    {
      "cell_type": "code",
      "source": [
        "# get the full metric dictionary\n",
        "metric_dict = sfs.get_metric_dict()\n",
        "\n",
        "# convert into dataframe\n",
        "metric_df = pd.DataFrame.from_dict(metric_dict).T\n",
        "\n",
        "# add useful columns\n",
        "metric_df['num_features'] = metric_df['feature_idx'].apply(lambda x: len(x))\n",
        "metric_df['feature_names'] = metric_df['feature_names'].apply(lambda x: list(x))\n",
        "\n",
        "# sort by accuracy\n",
        "metric_df = metric_df.sort_values(by=\"avg_score\", ascending=False)\n",
        "metric_df.head(10)\n"
      ],
      "metadata": {
        "colab": {
          "base_uri": "https://localhost:8080/",
          "height": 1000
        },
        "id": "OgLsK49hBLcD",
        "outputId": "ff76cd13-ec2b-4db4-c6f1-83a165554f7d"
      },
      "execution_count": null,
      "outputs": [
        {
          "output_type": "execute_result",
          "data": {
            "text/plain": [
              "                                          feature_idx  \\\n",
              "21  (4, 5, 6, 7, 8, 9, 10, 11, 14, 15, 16, 17, 18,...   \n",
              "22  (4, 5, 6, 7, 8, 9, 10, 11, 14, 15, 16, 17, 18,...   \n",
              "29  (0, 1, 2, 4, 5, 6, 7, 8, 9, 10, 11, 12, 13, 14...   \n",
              "25  (4, 5, 6, 7, 8, 9, 10, 11, 12, 14, 15, 16, 17,...   \n",
              "11             (4, 5, 6, 7, 8, 9, 14, 15, 21, 22, 26)   \n",
              "18  (4, 5, 6, 7, 8, 9, 14, 15, 16, 17, 18, 19, 21,...   \n",
              "17  (4, 5, 6, 7, 8, 9, 14, 15, 16, 17, 18, 19, 21,...   \n",
              "15  (4, 5, 6, 7, 8, 9, 14, 15, 16, 17, 18, 19, 21,...   \n",
              "14  (4, 5, 6, 7, 8, 9, 14, 15, 16, 17, 18, 21, 22,...   \n",
              "13     (4, 5, 6, 7, 8, 9, 14, 15, 16, 17, 21, 22, 26)   \n",
              "\n",
              "                                            cv_scores avg_score  \\\n",
              "21  [0.9385964912280702, 0.9385964912280702, 0.982...  0.957848   \n",
              "22  [0.9385964912280702, 0.9385964912280702, 0.991...  0.956078   \n",
              "29  [0.9385964912280702, 0.9385964912280702, 0.973...  0.954324   \n",
              "25  [0.9385964912280702, 0.9298245614035088, 0.982...  0.952569   \n",
              "11  [0.9298245614035088, 0.9298245614035088, 0.982...  0.952554   \n",
              "18  [0.9298245614035088, 0.9298245614035088, 0.982...  0.952554   \n",
              "17  [0.9298245614035088, 0.9298245614035088, 0.982...  0.952554   \n",
              "15  [0.9298245614035088, 0.9298245614035088, 0.982...  0.952554   \n",
              "14  [0.9298245614035088, 0.9298245614035088, 0.982...  0.952554   \n",
              "13  [0.9298245614035088, 0.9298245614035088, 0.982...  0.952554   \n",
              "\n",
              "                                        feature_names  ci_bound   std_dev  \\\n",
              "21  [mean smoothness, mean compactness, mean conca...  0.022943   0.01785   \n",
              "22  [mean smoothness, mean compactness, mean conca...  0.025675  0.019976   \n",
              "29  [mean radius, mean texture, mean perimeter, me...   0.01798  0.013989   \n",
              "25  [mean smoothness, mean compactness, mean conca...  0.024235  0.018855   \n",
              "11  [mean smoothness, mean compactness, mean conca...   0.02628  0.020447   \n",
              "18  [mean smoothness, mean compactness, mean conca...   0.02628  0.020447   \n",
              "17  [mean smoothness, mean compactness, mean conca...   0.02628  0.020447   \n",
              "15  [mean smoothness, mean compactness, mean conca...   0.02628  0.020447   \n",
              "14  [mean smoothness, mean compactness, mean conca...   0.02628  0.020447   \n",
              "13  [mean smoothness, mean compactness, mean conca...   0.02628  0.020447   \n",
              "\n",
              "     std_err  num_features  \n",
              "21  0.008925            21  \n",
              "22  0.009988            22  \n",
              "29  0.006994            29  \n",
              "25  0.009428            25  \n",
              "11  0.010223            11  \n",
              "18  0.010223            18  \n",
              "17  0.010223            17  \n",
              "15  0.010223            15  \n",
              "14  0.010223            14  \n",
              "13  0.010223            13  "
            ],
            "text/html": [
              "\n",
              "  <div id=\"df-6ade5cc4-7d6b-4340-821e-9ae18d7a7d02\" class=\"colab-df-container\">\n",
              "    <div>\n",
              "<style scoped>\n",
              "    .dataframe tbody tr th:only-of-type {\n",
              "        vertical-align: middle;\n",
              "    }\n",
              "\n",
              "    .dataframe tbody tr th {\n",
              "        vertical-align: top;\n",
              "    }\n",
              "\n",
              "    .dataframe thead th {\n",
              "        text-align: right;\n",
              "    }\n",
              "</style>\n",
              "<table border=\"1\" class=\"dataframe\">\n",
              "  <thead>\n",
              "    <tr style=\"text-align: right;\">\n",
              "      <th></th>\n",
              "      <th>feature_idx</th>\n",
              "      <th>cv_scores</th>\n",
              "      <th>avg_score</th>\n",
              "      <th>feature_names</th>\n",
              "      <th>ci_bound</th>\n",
              "      <th>std_dev</th>\n",
              "      <th>std_err</th>\n",
              "      <th>num_features</th>\n",
              "    </tr>\n",
              "  </thead>\n",
              "  <tbody>\n",
              "    <tr>\n",
              "      <th>21</th>\n",
              "      <td>(4, 5, 6, 7, 8, 9, 10, 11, 14, 15, 16, 17, 18,...</td>\n",
              "      <td>[0.9385964912280702, 0.9385964912280702, 0.982...</td>\n",
              "      <td>0.957848</td>\n",
              "      <td>[mean smoothness, mean compactness, mean conca...</td>\n",
              "      <td>0.022943</td>\n",
              "      <td>0.01785</td>\n",
              "      <td>0.008925</td>\n",
              "      <td>21</td>\n",
              "    </tr>\n",
              "    <tr>\n",
              "      <th>22</th>\n",
              "      <td>(4, 5, 6, 7, 8, 9, 10, 11, 14, 15, 16, 17, 18,...</td>\n",
              "      <td>[0.9385964912280702, 0.9385964912280702, 0.991...</td>\n",
              "      <td>0.956078</td>\n",
              "      <td>[mean smoothness, mean compactness, mean conca...</td>\n",
              "      <td>0.025675</td>\n",
              "      <td>0.019976</td>\n",
              "      <td>0.009988</td>\n",
              "      <td>22</td>\n",
              "    </tr>\n",
              "    <tr>\n",
              "      <th>29</th>\n",
              "      <td>(0, 1, 2, 4, 5, 6, 7, 8, 9, 10, 11, 12, 13, 14...</td>\n",
              "      <td>[0.9385964912280702, 0.9385964912280702, 0.973...</td>\n",
              "      <td>0.954324</td>\n",
              "      <td>[mean radius, mean texture, mean perimeter, me...</td>\n",
              "      <td>0.01798</td>\n",
              "      <td>0.013989</td>\n",
              "      <td>0.006994</td>\n",
              "      <td>29</td>\n",
              "    </tr>\n",
              "    <tr>\n",
              "      <th>25</th>\n",
              "      <td>(4, 5, 6, 7, 8, 9, 10, 11, 12, 14, 15, 16, 17,...</td>\n",
              "      <td>[0.9385964912280702, 0.9298245614035088, 0.982...</td>\n",
              "      <td>0.952569</td>\n",
              "      <td>[mean smoothness, mean compactness, mean conca...</td>\n",
              "      <td>0.024235</td>\n",
              "      <td>0.018855</td>\n",
              "      <td>0.009428</td>\n",
              "      <td>25</td>\n",
              "    </tr>\n",
              "    <tr>\n",
              "      <th>11</th>\n",
              "      <td>(4, 5, 6, 7, 8, 9, 14, 15, 21, 22, 26)</td>\n",
              "      <td>[0.9298245614035088, 0.9298245614035088, 0.982...</td>\n",
              "      <td>0.952554</td>\n",
              "      <td>[mean smoothness, mean compactness, mean conca...</td>\n",
              "      <td>0.02628</td>\n",
              "      <td>0.020447</td>\n",
              "      <td>0.010223</td>\n",
              "      <td>11</td>\n",
              "    </tr>\n",
              "    <tr>\n",
              "      <th>18</th>\n",
              "      <td>(4, 5, 6, 7, 8, 9, 14, 15, 16, 17, 18, 19, 21,...</td>\n",
              "      <td>[0.9298245614035088, 0.9298245614035088, 0.982...</td>\n",
              "      <td>0.952554</td>\n",
              "      <td>[mean smoothness, mean compactness, mean conca...</td>\n",
              "      <td>0.02628</td>\n",
              "      <td>0.020447</td>\n",
              "      <td>0.010223</td>\n",
              "      <td>18</td>\n",
              "    </tr>\n",
              "    <tr>\n",
              "      <th>17</th>\n",
              "      <td>(4, 5, 6, 7, 8, 9, 14, 15, 16, 17, 18, 19, 21,...</td>\n",
              "      <td>[0.9298245614035088, 0.9298245614035088, 0.982...</td>\n",
              "      <td>0.952554</td>\n",
              "      <td>[mean smoothness, mean compactness, mean conca...</td>\n",
              "      <td>0.02628</td>\n",
              "      <td>0.020447</td>\n",
              "      <td>0.010223</td>\n",
              "      <td>17</td>\n",
              "    </tr>\n",
              "    <tr>\n",
              "      <th>15</th>\n",
              "      <td>(4, 5, 6, 7, 8, 9, 14, 15, 16, 17, 18, 19, 21,...</td>\n",
              "      <td>[0.9298245614035088, 0.9298245614035088, 0.982...</td>\n",
              "      <td>0.952554</td>\n",
              "      <td>[mean smoothness, mean compactness, mean conca...</td>\n",
              "      <td>0.02628</td>\n",
              "      <td>0.020447</td>\n",
              "      <td>0.010223</td>\n",
              "      <td>15</td>\n",
              "    </tr>\n",
              "    <tr>\n",
              "      <th>14</th>\n",
              "      <td>(4, 5, 6, 7, 8, 9, 14, 15, 16, 17, 18, 21, 22,...</td>\n",
              "      <td>[0.9298245614035088, 0.9298245614035088, 0.982...</td>\n",
              "      <td>0.952554</td>\n",
              "      <td>[mean smoothness, mean compactness, mean conca...</td>\n",
              "      <td>0.02628</td>\n",
              "      <td>0.020447</td>\n",
              "      <td>0.010223</td>\n",
              "      <td>14</td>\n",
              "    </tr>\n",
              "    <tr>\n",
              "      <th>13</th>\n",
              "      <td>(4, 5, 6, 7, 8, 9, 14, 15, 16, 17, 21, 22, 26)</td>\n",
              "      <td>[0.9298245614035088, 0.9298245614035088, 0.982...</td>\n",
              "      <td>0.952554</td>\n",
              "      <td>[mean smoothness, mean compactness, mean conca...</td>\n",
              "      <td>0.02628</td>\n",
              "      <td>0.020447</td>\n",
              "      <td>0.010223</td>\n",
              "      <td>13</td>\n",
              "    </tr>\n",
              "  </tbody>\n",
              "</table>\n",
              "</div>\n",
              "    <div class=\"colab-df-buttons\">\n",
              "\n",
              "  <div class=\"colab-df-container\">\n",
              "    <button class=\"colab-df-convert\" onclick=\"convertToInteractive('df-6ade5cc4-7d6b-4340-821e-9ae18d7a7d02')\"\n",
              "            title=\"Convert this dataframe to an interactive table.\"\n",
              "            style=\"display:none;\">\n",
              "\n",
              "  <svg xmlns=\"http://www.w3.org/2000/svg\" height=\"24px\" viewBox=\"0 -960 960 960\">\n",
              "    <path d=\"M120-120v-720h720v720H120Zm60-500h600v-160H180v160Zm220 220h160v-160H400v160Zm0 220h160v-160H400v160ZM180-400h160v-160H180v160Zm440 0h160v-160H620v160ZM180-180h160v-160H180v160Zm440 0h160v-160H620v160Z\"/>\n",
              "  </svg>\n",
              "    </button>\n",
              "\n",
              "  <style>\n",
              "    .colab-df-container {\n",
              "      display:flex;\n",
              "      gap: 12px;\n",
              "    }\n",
              "\n",
              "    .colab-df-convert {\n",
              "      background-color: #E8F0FE;\n",
              "      border: none;\n",
              "      border-radius: 50%;\n",
              "      cursor: pointer;\n",
              "      display: none;\n",
              "      fill: #1967D2;\n",
              "      height: 32px;\n",
              "      padding: 0 0 0 0;\n",
              "      width: 32px;\n",
              "    }\n",
              "\n",
              "    .colab-df-convert:hover {\n",
              "      background-color: #E2EBFA;\n",
              "      box-shadow: 0px 1px 2px rgba(60, 64, 67, 0.3), 0px 1px 3px 1px rgba(60, 64, 67, 0.15);\n",
              "      fill: #174EA6;\n",
              "    }\n",
              "\n",
              "    .colab-df-buttons div {\n",
              "      margin-bottom: 4px;\n",
              "    }\n",
              "\n",
              "    [theme=dark] .colab-df-convert {\n",
              "      background-color: #3B4455;\n",
              "      fill: #D2E3FC;\n",
              "    }\n",
              "\n",
              "    [theme=dark] .colab-df-convert:hover {\n",
              "      background-color: #434B5C;\n",
              "      box-shadow: 0px 1px 3px 1px rgba(0, 0, 0, 0.15);\n",
              "      filter: drop-shadow(0px 1px 2px rgba(0, 0, 0, 0.3));\n",
              "      fill: #FFFFFF;\n",
              "    }\n",
              "  </style>\n",
              "\n",
              "    <script>\n",
              "      const buttonEl =\n",
              "        document.querySelector('#df-6ade5cc4-7d6b-4340-821e-9ae18d7a7d02 button.colab-df-convert');\n",
              "      buttonEl.style.display =\n",
              "        google.colab.kernel.accessAllowed ? 'block' : 'none';\n",
              "\n",
              "      async function convertToInteractive(key) {\n",
              "        const element = document.querySelector('#df-6ade5cc4-7d6b-4340-821e-9ae18d7a7d02');\n",
              "        const dataTable =\n",
              "          await google.colab.kernel.invokeFunction('convertToInteractive',\n",
              "                                                    [key], {});\n",
              "        if (!dataTable) return;\n",
              "\n",
              "        const docLinkHtml = 'Like what you see? Visit the ' +\n",
              "          '<a target=\"_blank\" href=https://colab.research.google.com/notebooks/data_table.ipynb>data table notebook</a>'\n",
              "          + ' to learn more about interactive tables.';\n",
              "        element.innerHTML = '';\n",
              "        dataTable['output_type'] = 'display_data';\n",
              "        await google.colab.output.renderOutput(dataTable, element);\n",
              "        const docLink = document.createElement('div');\n",
              "        docLink.innerHTML = docLinkHtml;\n",
              "        element.appendChild(docLink);\n",
              "      }\n",
              "    </script>\n",
              "  </div>\n",
              "\n",
              "\n",
              "    <div id=\"df-3183af89-0879-4ad0-b529-62053b00b97c\">\n",
              "      <button class=\"colab-df-quickchart\" onclick=\"quickchart('df-3183af89-0879-4ad0-b529-62053b00b97c')\"\n",
              "                title=\"Suggest charts\"\n",
              "                style=\"display:none;\">\n",
              "\n",
              "<svg xmlns=\"http://www.w3.org/2000/svg\" height=\"24px\"viewBox=\"0 0 24 24\"\n",
              "     width=\"24px\">\n",
              "    <g>\n",
              "        <path d=\"M19 3H5c-1.1 0-2 .9-2 2v14c0 1.1.9 2 2 2h14c1.1 0 2-.9 2-2V5c0-1.1-.9-2-2-2zM9 17H7v-7h2v7zm4 0h-2V7h2v10zm4 0h-2v-4h2v4z\"/>\n",
              "    </g>\n",
              "</svg>\n",
              "      </button>\n",
              "\n",
              "<style>\n",
              "  .colab-df-quickchart {\n",
              "      --bg-color: #E8F0FE;\n",
              "      --fill-color: #1967D2;\n",
              "      --hover-bg-color: #E2EBFA;\n",
              "      --hover-fill-color: #174EA6;\n",
              "      --disabled-fill-color: #AAA;\n",
              "      --disabled-bg-color: #DDD;\n",
              "  }\n",
              "\n",
              "  [theme=dark] .colab-df-quickchart {\n",
              "      --bg-color: #3B4455;\n",
              "      --fill-color: #D2E3FC;\n",
              "      --hover-bg-color: #434B5C;\n",
              "      --hover-fill-color: #FFFFFF;\n",
              "      --disabled-bg-color: #3B4455;\n",
              "      --disabled-fill-color: #666;\n",
              "  }\n",
              "\n",
              "  .colab-df-quickchart {\n",
              "    background-color: var(--bg-color);\n",
              "    border: none;\n",
              "    border-radius: 50%;\n",
              "    cursor: pointer;\n",
              "    display: none;\n",
              "    fill: var(--fill-color);\n",
              "    height: 32px;\n",
              "    padding: 0;\n",
              "    width: 32px;\n",
              "  }\n",
              "\n",
              "  .colab-df-quickchart:hover {\n",
              "    background-color: var(--hover-bg-color);\n",
              "    box-shadow: 0 1px 2px rgba(60, 64, 67, 0.3), 0 1px 3px 1px rgba(60, 64, 67, 0.15);\n",
              "    fill: var(--button-hover-fill-color);\n",
              "  }\n",
              "\n",
              "  .colab-df-quickchart-complete:disabled,\n",
              "  .colab-df-quickchart-complete:disabled:hover {\n",
              "    background-color: var(--disabled-bg-color);\n",
              "    fill: var(--disabled-fill-color);\n",
              "    box-shadow: none;\n",
              "  }\n",
              "\n",
              "  .colab-df-spinner {\n",
              "    border: 2px solid var(--fill-color);\n",
              "    border-color: transparent;\n",
              "    border-bottom-color: var(--fill-color);\n",
              "    animation:\n",
              "      spin 1s steps(1) infinite;\n",
              "  }\n",
              "\n",
              "  @keyframes spin {\n",
              "    0% {\n",
              "      border-color: transparent;\n",
              "      border-bottom-color: var(--fill-color);\n",
              "      border-left-color: var(--fill-color);\n",
              "    }\n",
              "    20% {\n",
              "      border-color: transparent;\n",
              "      border-left-color: var(--fill-color);\n",
              "      border-top-color: var(--fill-color);\n",
              "    }\n",
              "    30% {\n",
              "      border-color: transparent;\n",
              "      border-left-color: var(--fill-color);\n",
              "      border-top-color: var(--fill-color);\n",
              "      border-right-color: var(--fill-color);\n",
              "    }\n",
              "    40% {\n",
              "      border-color: transparent;\n",
              "      border-right-color: var(--fill-color);\n",
              "      border-top-color: var(--fill-color);\n",
              "    }\n",
              "    60% {\n",
              "      border-color: transparent;\n",
              "      border-right-color: var(--fill-color);\n",
              "    }\n",
              "    80% {\n",
              "      border-color: transparent;\n",
              "      border-right-color: var(--fill-color);\n",
              "      border-bottom-color: var(--fill-color);\n",
              "    }\n",
              "    90% {\n",
              "      border-color: transparent;\n",
              "      border-bottom-color: var(--fill-color);\n",
              "    }\n",
              "  }\n",
              "</style>\n",
              "\n",
              "      <script>\n",
              "        async function quickchart(key) {\n",
              "          const quickchartButtonEl =\n",
              "            document.querySelector('#' + key + ' button');\n",
              "          quickchartButtonEl.disabled = true;  // To prevent multiple clicks.\n",
              "          quickchartButtonEl.classList.add('colab-df-spinner');\n",
              "          try {\n",
              "            const charts = await google.colab.kernel.invokeFunction(\n",
              "                'suggestCharts', [key], {});\n",
              "          } catch (error) {\n",
              "            console.error('Error during call to suggestCharts:', error);\n",
              "          }\n",
              "          quickchartButtonEl.classList.remove('colab-df-spinner');\n",
              "          quickchartButtonEl.classList.add('colab-df-quickchart-complete');\n",
              "        }\n",
              "        (() => {\n",
              "          let quickchartButtonEl =\n",
              "            document.querySelector('#df-3183af89-0879-4ad0-b529-62053b00b97c button');\n",
              "          quickchartButtonEl.style.display =\n",
              "            google.colab.kernel.accessAllowed ? 'block' : 'none';\n",
              "        })();\n",
              "      </script>\n",
              "    </div>\n",
              "\n",
              "    </div>\n",
              "  </div>\n"
            ],
            "application/vnd.google.colaboratory.intrinsic+json": {
              "type": "dataframe",
              "variable_name": "metric_df",
              "repr_error": "0"
            }
          },
          "metadata": {},
          "execution_count": 35
        }
      ]
    },
    {
      "cell_type": "code",
      "source": [
        "import matplotlib.pyplot as plt\n",
        "\n",
        "subset_sizes = [len(m[\"feature_names\"]) for m in metric_dict.values()]\n",
        "scores = [m[\"avg_score\"] for m in metric_dict.values()]\n",
        "\n",
        "plt.figure(figsize=(6,4))\n",
        "plt.plot(subset_sizes, scores, marker=\"o\", linestyle=\"--\")\n",
        "plt.xlabel(\"Number of Features\")\n",
        "plt.ylabel(\"CV Accuracy\")\n",
        "plt.title(\"Sequential Forward Selection (Breast Cancer Dataset)\")\n",
        "plt.grid(True, linestyle=\"--\", alpha=0.6)\n",
        "plt.show()\n"
      ],
      "metadata": {
        "colab": {
          "base_uri": "https://localhost:8080/",
          "height": 410
        },
        "id": "h5ZFepFnBWYn",
        "outputId": "12e5b8cb-e381-46d7-cd4c-3d3c7a2d0fc0"
      },
      "execution_count": null,
      "outputs": [
        {
          "output_type": "display_data",
          "data": {
            "text/plain": [
              "<Figure size 600x400 with 1 Axes>"
            ],
            "image/png": "[encoded data removed]"
          },
          "metadata": {}
        }
      ]
    },
    {
      "cell_type": "code",
      "source": [
        "# model with sfs selected features\n",
        "from sklearn.model_selection import cross_val_score\n",
        "from sklearn.pipeline import Pipeline\n",
        "from sklearn.preprocessing import StandardScaler\n",
        "from sklearn.linear_model import LogisticRegression\n",
        "from sklearn.metrics import accuracy_score, classification_report\n",
        "from sklearn.model_selection import train_test_split\n",
        "\n",
        "# SFS-selected features\n",
        "X_sfs = X[selected_features]\n",
        "\n",
        "# Train-test split\n",
        "X_train, X_test, y_train, y_test = train_test_split(X_sfs, y, test_size=0.2, random_state=42)\n",
        "\n",
        "# Standardize\n",
        "std = StandardScaler()\n",
        "X_train_scaled = std.fit_transform(X_train)\n",
        "X_test_scaled = std.transform(X_test)\n",
        "\n",
        "# Train model\n",
        "log_reg = LogisticRegression(max_iter=5000, solver=\"liblinear\")\n",
        "log_reg.fit(X_train_scaled, y_train)\n",
        "\n",
        "# Predictions\n",
        "y_pred_sfs = log_reg.predict(X_test_scaled)\n",
        "\n",
        "# Test set evaluation\n",
        "print(\"Test Set Accuracy with SFS-Selected Features:\", accuracy_score(y_test, y_pred_sfs))\n",
        "print(\"\\nClassification Report:\\n\", classification_report(y_test, y_pred_sfs))\n",
        "\n",
        "# Cross-validation (with proper scaling via pipeline)\n",
        "pipeline = Pipeline([\n",
        "    ('scaler', StandardScaler()),\n",
        "    ('classifier', LogisticRegression(max_iter=5000, solver=\"liblinear\"))\n",
        "])\n",
        "\n",
        "sfs_cv_scores = cross_val_score(pipeline, X_sfs, y, cv=5, scoring='accuracy')\n",
        "print(\"SFS-Selected Features Mean CV Accuracy:\", sfs_cv_scores.mean())\n"
      ],
      "metadata": {
        "id": "0RLaNASbc4dE",
        "colab": {
          "base_uri": "https://localhost:8080/"
        },
        "outputId": "8a9dae57-eaa5-4b5b-b1b6-216423f838d5"
      },
      "execution_count": null,
      "outputs": [
        {
          "output_type": "stream",
          "name": "stdout",
          "text": [
            "Test Set Accuracy with SFS-Selected Features: 0.9912280701754386\n",
            "\n",
            "Classification Report:\n",
            "               precision    recall  f1-score   support\n",
            "\n",
            "           0       1.00      0.98      0.99        43\n",
            "           1       0.99      1.00      0.99        71\n",
            "\n",
            "    accuracy                           0.99       114\n",
            "   macro avg       0.99      0.99      0.99       114\n",
            "weighted avg       0.99      0.99      0.99       114\n",
            "\n",
            "SFS-Selected Features Mean CV Accuracy: 0.9771774569166279\n"
          ]
        }
      ]
    },
    {
      "cell_type": "code",
      "source": [
        "import matplotlib.pyplot as plt\n",
        "\n",
        "scores = [baseline_cv_scores.mean(),sfs_cv_scores.mean()]\n",
        "labels = [\"Baseline (All Features)\", \"SFS-Selected Features\"]\n",
        "\n",
        "plt.figure(figsize=(6,4))\n",
        "plt.bar(labels, scores, color=[\"skyblue\", \"lightgreen\"])\n",
        "plt.ylim(0.9, 1.0)  # zoom into accuracy range\n",
        "plt.ylabel(\"Accuracy\")\n",
        "plt.title(\"Baseline vs SFS-Selected Features Accuracy\")\n",
        "plt.show()\n"
      ],
      "metadata": {
        "colab": {
          "base_uri": "https://localhost:8080/",
          "height": 391
        },
        "id": "spoTjBI6GVNf",
        "outputId": "509fbfd4-fa3f-427c-a078-ac4cef5e0d68"
      },
      "execution_count": null,
      "outputs": [
        {
          "output_type": "display_data",
          "data": {
            "text/plain": [
              "<Figure size 600x400 with 1 Axes>"
            ],
            "image/png": "[encoded data removed]"
          },
          "metadata": {}
        }
      ]
    },
    {
      "cell_type": "markdown",
      "source": [
        "### Baseline vs SFS-Selected Features\n",
        "\n",
        "- **Baseline Model (all features):** Mean CV Accuracy ≈ 95.1%, Test Set Accuracy ≈ 95.1%  \n",
        "- **SFS-Selected Model:** Mean CV Accuracy ≈ 97.7%, Test Set Accuracy ≈ 97.4%  \n",
        "\n",
        " Insights:\n",
        "1. The SFS-selected model **outperforms the baseline** slightly while using fewer features.  \n",
        "2. Wrapper methods like Sequential Forward Selection help us **simplify the model, reduce dimensionality, and maintain or even improve accuracy**.  \n",
        "3. This also makes the model **faster, easier to interpret, and less prone to overfitting**.\n"
      ],
      "metadata": {
        "id": "vJaEJN4VGIRI"
      }
    },
    {
      "cell_type": "markdown",
      "source": [
        "## When to Use Forward Selection (SFS)?\n",
        "\n",
        "- When you have **many features** and want to find the most useful subset instead of blindly using them all.  \n",
        "- When you care about **interpretability** (smaller feature sets are easier to explain to non-technical people).  \n",
        "- When you suspect that **not all features are relevant** and some may add noise.  \n",
        "- When you’re working with **medium-sized datasets** where training multiple models is still feasible.  \n",
        "\n",
        "Example:  \n",
        "Imagine you’re predicting whether a patient has a disease. The dataset has 30 medical measurements.  \n",
        "Doctors don’t want to rely on all 30 — they’d prefer 5–10 strong indicators that make sense clinically.  \n",
        "SFS helps here by picking the most relevant measurements while keeping accuracy high.  \n",
        "\n",
        "---\n",
        "\n",
        "## Problems with Forward Selection (SFS)\n",
        "\n",
        "- **Computationally expensive**: It trains the model many times, especially if you have hundreds of features.  \n",
        "- **Greedy approach**: Once it adds a feature, it doesn’t go back and reconsider.  \n",
        "  - Example: It might pick a feature early on that looks good alone, but later it turns out not to be useful with others. Too late — it’s already locked in.  \n",
        "- **Risk of overfitting**: If dataset is small, SFS might “cherry-pick” features that look good on cross-validation but don’t generalize well.  \n",
        "- **Not great for very high-dimensional data** (like gene expression or NLP with thousands of features). In such cases, filter methods or embedded methods (like Lasso) are more practical.  \n",
        "\n",
        "---\n",
        "\n",
        "**In short:** Use SFS when you want **interpretability + solid performance** on medium datasets.  \n",
        "Avoid it when you’re working with **huge feature spaces** or need **fast feature selection**.  \n"
      ],
      "metadata": {
        "id": "EWirgnYhOWsw"
      }
    },
    {
      "cell_type": "markdown",
      "source": [
        "# 3 .Backward Elimination\n",
        "\n",
        "## What is Backward Elimination?\n",
        "Backward Elimination is the **opposite of Forward Selection**.  \n",
        "Instead of starting with no features, it starts with **all features** and then removes them one by one.  \n",
        "At each step, it drops the feature that contributes the least to the model’s performance.  \n",
        "\n",
        "Think of it as “peeling an onion”:  \n",
        "- Start with everything.  \n",
        "- Keep removing the weakest layer (feature) at each step.  \n",
        "- Stop when removing more layers starts hurting performance.\n",
        "\n",
        "---\n",
        "\n",
        "## Intuition\n",
        "Imagine you’re packing your travel bag.  \n",
        "- At first, you throw in **all items** (clothes, shoes, books, gadgets).  \n",
        "- But your bag is too heavy.  \n",
        "- So you start removing items that you need the least (like the extra pair of shoes or that heavy book).  \n",
        "- Finally, you’re left with a **light but useful bag** that still has everything important.  \n",
        "\n",
        "That’s exactly what Backward Elimination does with features.\n"
      ],
      "metadata": {
        "id": "6Jqyof_6PxBh"
      }
    },
    {
      "cell_type": "code",
      "source": [
        "# Base model\n",
        "log_reg = LogisticRegression(max_iter=5000, solver=\"liblinear\")"
      ],
      "metadata": {
        "id": "x7tPkdp4Q6OO"
      },
      "execution_count": null,
      "outputs": []
    },
    {
      "cell_type": "code",
      "source": [
        "# Backward Elimination (start with all features, remove one at a time)\n",
        "sbs = SFS(log_reg,\n",
        "          k_features=\"best\",   # let SBS pick the optimal number of features\n",
        "          forward=False,       # backward elimination\n",
        "          floating=False,\n",
        "          scoring=\"accuracy\",\n",
        "          cv=5,\n",
        "          n_jobs=-1)\n",
        "\n",
        "sbs = sbs.fit(X, y)"
      ],
      "metadata": {
        "id": "-_DNRTXKQ6K9"
      },
      "execution_count": null,
      "outputs": []
    },
    {
      "cell_type": "code",
      "source": [
        "# Selected feature indices\n",
        "selected_idx = list(sbs.k_feature_idx_)\n",
        "print(\"Selected Feature Indices:\", selected_idx)\n",
        "\n",
        "# Selected feature names\n",
        "selected_features = X.columns[selected_idx]\n",
        "print(\"Selected Features:\", list(selected_features))\n",
        "\n",
        "# CV score\n",
        "print(\"Best CV Accuracy (Backward Elimination):\", sbs.k_score_)\n"
      ],
      "metadata": {
        "colab": {
          "base_uri": "https://localhost:8080/"
        },
        "id": "PzVFqF3zG9M9",
        "outputId": "48ce674b-1215-45c6-b5e8-839759fed27b"
      },
      "execution_count": null,
      "outputs": [
        {
          "output_type": "stream",
          "name": "stdout",
          "text": [
            "Selected Feature Indices: [0, 1, 2, 4, 5, 6, 7, 8, 9, 10, 12, 13, 14, 15, 16, 17, 18, 19, 20, 22, 23, 24, 25, 26, 27, 28, 29]\n",
            "Selected Features: ['mean radius', 'mean texture', 'mean perimeter', 'mean smoothness', 'mean compactness', 'mean concavity', 'mean concave points', 'mean symmetry', 'mean fractal dimension', 'radius error', 'perimeter error', 'area error', 'smoothness error', 'compactness error', 'concavity error', 'concave points error', 'symmetry error', 'fractal dimension error', 'worst radius', 'worst perimeter', 'worst area', 'worst smoothness', 'worst compactness', 'worst concavity', 'worst concave points', 'worst symmetry', 'worst fractal dimension']\n",
            "Best CV Accuracy (Backward Elimination): 0.9578326346840551\n"
          ]
        }
      ]
    },
    {
      "cell_type": "code",
      "source": [
        "from sklearn.model_selection import train_test_split, cross_val_score\n",
        "from sklearn.preprocessing import StandardScaler\n",
        "from sklearn.linear_model import LogisticRegression\n",
        "from sklearn.pipeline import Pipeline\n",
        "from sklearn.metrics import accuracy_score, classification_report\n",
        "\n",
        "# SBS-selected features (from backward elimination)\n",
        "X_sbs = X[selected_features]  # replace `selected_features` with SBS-selected feature names\n",
        "\n",
        "# Train-test split\n",
        "X_train, X_test, y_train, y_test = train_test_split(X_sbs, y, test_size=0.2, random_state=42)\n",
        "\n",
        "# Standardize\n",
        "std = StandardScaler()\n",
        "X_train_scaled = std.fit_transform(X_train)\n",
        "X_test_scaled = std.transform(X_test)\n",
        "\n",
        "# Train model\n",
        "log_reg = LogisticRegression(max_iter=5000, solver=\"liblinear\")\n",
        "log_reg.fit(X_train_scaled, y_train)\n",
        "\n",
        "# Predictions\n",
        "y_pred_sbs = log_reg.predict(X_test_scaled)\n",
        "\n",
        "# Test set evaluation\n",
        "print(\"Test Set Accuracy with SBS-Selected Features:\", accuracy_score(y_test, y_pred_sbs))\n",
        "print(\"\\nClassification Report:\\n\", classification_report(y_test, y_pred_sbs))\n",
        "\n",
        "# Cross-validation with pipeline (scaling included)\n",
        "pipeline = Pipeline([\n",
        "    ('scaler', StandardScaler()),\n",
        "    ('classifier', LogisticRegression(max_iter=5000, solver=\"liblinear\"))\n",
        "])\n",
        "\n",
        "sbs_cv_scores = cross_val_score(pipeline, X_sbs, y, cv=5, scoring='accuracy')\n",
        "print(\"SBS-Selected Features Mean CV Accuracy:\", sbs_cv_scores.mean())\n"
      ],
      "metadata": {
        "colab": {
          "base_uri": "https://localhost:8080/"
        },
        "id": "00ZxwZbvRn0p",
        "outputId": "0579f19c-683d-456d-ff63-b9844a691cdf"
      },
      "execution_count": null,
      "outputs": [
        {
          "output_type": "stream",
          "name": "stdout",
          "text": [
            "Test Set Accuracy with SBS-Selected Features: 0.9912280701754386\n",
            "\n",
            "Classification Report:\n",
            "               precision    recall  f1-score   support\n",
            "\n",
            "           0       1.00      0.98      0.99        43\n",
            "           1       0.99      1.00      0.99        71\n",
            "\n",
            "    accuracy                           0.99       114\n",
            "   macro avg       0.99      0.99      0.99       114\n",
            "weighted avg       0.99      0.99      0.99       114\n",
            "\n",
            "SBS-Selected Features Mean CV Accuracy: 0.9771774569166279\n"
          ]
        }
      ]
    },
    {
      "cell_type": "markdown",
      "source": [
        "### 🔄 Baseline vs SFS-Selected Features\n",
        "\n",
        "- **Baseline Model (all features):** Mean CV Accuracy ≈ 95.1%  \n",
        "- **SFS-Selected Model:** Mean CV Accuracy ≈ 97.7%  \n",
        "\n",
        "💡 Key Takeaways:\n",
        "1. Sequential Forward Selection (SFS) helps **select the most informative features**, eliminating irrelevant ones.  \n",
        "2. Using fewer features can sometimes **improve model performance**, as seen here.  \n",
        "3. Reducing dimensionality also makes the model **simpler, faster, and more interpretable**, which is highly valued in real-world applications.\n"
      ],
      "metadata": {
        "id": "7MlN5oaJLYyM"
      }
    },
    {
      "cell_type": "code",
      "source": [
        "import matplotlib.pyplot as plt\n",
        "\n",
        "models = [\"Baseline\",\"SBS-Selected\"]\n",
        "cv_scores = [baseline_cv_scores.mean(), sbs_cv_scores.mean()]\n",
        "\n",
        "plt.figure(figsize=(8,4))\n",
        "plt.bar(models, cv_scores, color=[\"skyblue\", \"salmon\"])\n",
        "plt.ylim(0.9, 1.0)\n",
        "plt.ylabel(\"Mean CV Accuracy\")\n",
        "plt.title(\"Baseline vs SBS\")\n",
        "plt.show()\n"
      ],
      "metadata": {
        "colab": {
          "base_uri": "https://localhost:8080/",
          "height": 391
        },
        "id": "GDw7OEfRL_N_",
        "outputId": "30f2ad12-82f0-40a3-e8ae-78ad54c4a4ff"
      },
      "execution_count": null,
      "outputs": [
        {
          "output_type": "display_data",
          "data": {
            "text/plain": [
              "<Figure size 800x400 with 1 Axes>"
            ],
            "image/png": "[encoded data removed]"
          },
          "metadata": {}
        }
      ]
    },
    {
      "cell_type": "markdown",
      "source": [
        "## When to Use Backward Elimination?\n",
        "\n",
        "- When you have a **moderate number of features** (not thousands).  \n",
        "- When you want to start with **all possible predictors** and carefully prune down.  \n",
        "- When you suspect that **most features are useful**, but you want to remove the least important ones.  \n",
        "- When interpretability matters, and you want a **cleaner model** with fewer variables.  \n",
        "\n",
        "Example:  \n",
        "Imagine a doctor has 30 medical tests for cancer detection. Instead of guessing which ones to use, she starts with all of them.  \n",
        "Backward Elimination helps by removing the least useful tests one by one until only the **most critical ones remain**.  \n",
        "\n",
        "---\n",
        "\n",
        "## Problems with Backward Elimination\n",
        "\n",
        "- **Computationally heavy** if you have a large number of features, since it starts big and prunes down.  \n",
        "- **Greedy nature**: Once it removes a feature, it never brings it back, even if it could have been useful in combination with others.  \n",
        "- **Risk of overfitting**: Similar to forward selection, it may tailor the selected features to the training data and not generalize well.  \n",
        "- **Needs enough samples**: If dataset is small, performance estimates during elimination may be unstable.  \n",
        "- **Not suitable for high-dimensional data** (like thousands of text or gene features) — wrapper methods become too slow, and embedded methods like Lasso are better.  \n",
        "\n",
        "---\n",
        "\n",
        "**In short:** Backward Elimination is great if you can start with everything and want to **prune carefully**, but avoid it when the feature space is **huge**.  \n"
      ],
      "metadata": {
        "id": "k719Y9tyRw9i"
      }
    },
    {
      "cell_type": "code",
      "source": [
        "import matplotlib.pyplot as plt\n",
        "\n",
        "models = [\"Baseline\", \"SFS-Selected\", \"SBS-Selected\"]\n",
        "cv_scores = [baseline_cv_scores.mean(), sfs_cv_scores.mean(), sbs_cv_scores.mean()]\n",
        "\n",
        "plt.figure(figsize=(8,4))\n",
        "plt.bar(models, cv_scores, color=[\"skyblue\", \"lightgreen\", \"salmon\"])\n",
        "plt.ylim(0.9, 1.0)\n",
        "plt.ylabel(\"Mean CV Accuracy\")\n",
        "plt.title(\"Baseline vs SFS vs SBS\")\n",
        "plt.show()\n"
      ],
      "metadata": {
        "colab": {
          "base_uri": "https://localhost:8080/",
          "height": 391
        },
        "id": "4pExprwRMgix",
        "outputId": "92469008-608a-4df9-f41f-70bcec1999a1"
      },
      "execution_count": null,
      "outputs": [
        {
          "output_type": "display_data",
          "data": {
            "text/plain": [
              "<Figure size 800x400 with 1 Axes>"
            ],
            "image/png": "[encoded data removed]"
          },
          "metadata": {}
        }
      ]
    },
    {
      "cell_type": "markdown",
      "source": [
        "### Comparison: Baseline vs SFS vs SBS\n",
        "\n",
        "| Model                     | Test Set Accuracy | Mean CV Accuracy | # Features |\n",
        "|----------------------------|-----------------|-----------------|------------|\n",
        "| Baseline (All Features)    | 95.1%           | 95.1%           | 30         |\n",
        "| SFS-Selected Features      | 97.4%           | 97.7%           | 27         |\n",
        "| SBS-Selected Features      | 97.4%           | 97.7%           | 27         |\n",
        "\n",
        "💡 Insights:\n",
        "1. Both **SFS and SBS** achieve almost the same accuracy as each other and outperform the baseline, despite using fewer features.  \n",
        "2. Wrapper methods simplify the model, reduce dimensionality, and improve interpretability.  \n",
        "3. In real-world scenarios, SFS is **forward-looking**, adding the most useful features first, while SBS is **backward-looking**, removing the least useful features. Both approaches are valuable depending on dataset size and computation constraints.\n"
      ],
      "metadata": {
        "id": "m1jJ3WsJMp0i"
      }
    },
    {
      "cell_type": "markdown",
      "source": [
        "# Recursive Feature Elimination (RFE)\n",
        "\n",
        "## What is RFE?\n",
        "Recursive Feature Elimination (RFE) is a **systematic way** of removing the weakest features step by step.  \n",
        "Instead of just doing one round of elimination like backward selection, RFE keeps repeating the process until only the desired number of features remain.  \n",
        "\n",
        "It’s like a tournament:  \n",
        "- All features start in the competition.  \n",
        "- At each round, the **least useful feature gets eliminated**.  \n",
        "- The tournament continues until only the “champion features” are left.\n",
        "\n",
        "---\n",
        "\n",
        "## Intuition (Human Example)\n",
        "Imagine you’re trying to find the best basketball team lineup:  \n",
        "- You start with all players.  \n",
        "- In each round, you cut the weakest player.  \n",
        "- You repeat this process until you’re left with the top 5 players.  \n",
        "\n",
        "That’s exactly what RFE does — it keeps “firing” the weakest features until the best team remains.\n"
      ],
      "metadata": {
        "id": "Z21RT79GSxyI"
      }
    }
  ]
}