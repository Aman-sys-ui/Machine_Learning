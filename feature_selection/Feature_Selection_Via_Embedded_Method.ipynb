{
  "nbformat": 4,
  "nbformat_minor": 0,
  "metadata": {
    "colab": {
      "provenance": [],
      "authorship_tag": "ABX9TyNHQgNGlTP07+pLZTVLsOjh"
    },
    "kernelspec": {
      "name": "python3",
      "display_name": "Python 3"
    },
    "language_info": {
      "name": "python"
    }
  },
  "cells": [
    {
      "cell_type": "markdown",
      "source": [
        "# Feature Selection – Embedded Methods\n",
        "\n",
        "Till now, I explored **Filter** and **Wrapper** methods for feature selection.  \n",
        "They worked well, but:\n",
        "\n",
        "- Filter methods are too simple – they ignore interactions between features.\n",
        "- Wrapper methods are too slow – they train multiple models for different feature subsets.\n",
        "\n",
        "**Embedded methods solve both problems** by doing feature selection **as part of model training**.  \n",
        "This makes them **efficient** and allows them to consider **feature interactions**.\n",
        "\n",
        "In this notebook, I want to go **deep** and really understand:\n",
        "\n",
        "- What each embedded method does under the hood\n",
        "- When to use which method\n",
        "- How to implement them step by step with code\n",
        "- How performance changes when I actually drop features\n"
      ],
      "metadata": {
        "id": "J3jAn770nKW9"
      }
    },
    {
      "cell_type": "markdown",
      "source": [
        "## Types of Embedded Methods\n",
        "\n",
        "**Lasso Regression (L1)** → Performs automatic feature selection by shrinking some coefficients to zero ·  \n",
        "**Ridge Regression (L2)** → Shrinks coefficients to reduce multicollinearity but keeps all features ·  \n",
        "**Elastic Net (L1 + L2)** → Combines Lasso and Ridge to handle correlated features while performing selection ·  \n",
        "**Tree-based Feature Importance (Random Forest / Decision Trees)** → Uses model-inherent feature importance to select relevant features without assuming linearity\n"
      ],
      "metadata": {
        "id": "QlqIcEm5KBTI"
      }
    },
    {
      "cell_type": "markdown",
      "source": [
        "## Baseline Model – Breast Cancer Dataset\n",
        "\n",
        "Before diving into embedded methods, I want to set up a **baseline model** using all features.  \n",
        "This will help me **compare performance later** when we drop features using Lasso, Ridge, Elastic Net, or Tree-based methods.\n",
        "\n",
        "We are using **Breast Cancer dataset** from `sklearn` because it has a good number of features and is widely used for classification practice.\n"
      ],
      "metadata": {
        "id": "-TPuBO9fpkeY"
      }
    }
  ]
}