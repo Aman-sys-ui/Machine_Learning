{
  "nbformat": 4,
  "nbformat_minor": 0,
  "metadata": {
    "colab": {
      "provenance": [],
      "authorship_tag": "ABX9TyOmkKjVWXUNs0zOkPmH/YSK"
    },
    "kernelspec": {
      "name": "python3",
      "display_name": "Python 3"
    },
    "language_info": {
      "name": "python"
    }
  },
  "cells": [
    {
      "cell_type": "markdown",
      "source": [
        "# Advanced KNN  \n",
        "**Author:** Aman (Documenting my ML learning journey)\n",
        "\n",
        "\"\"\"\n",
        "In this notebook, I am taking my understanding of **K-Nearest Neighbors (KNN)** to the next level.  \n",
        "In my previous notebook, I implemented and explained the basics of KNN for classification.  \n",
        "\n",
        "But knowing how to just \"use\" KNN is not enough — I want to **really understand** its inner workings,  \n",
        "its limitations, and when to use it (or avoid it!) in real-world ML projects.\n",
        "\n",
        "So here, I will:\n",
        "- Recap KNN briefly\n",
        "- Explore KNN Regressor (yes, KNN is not just for classification!)\n",
        "- Dive into its hyperparameters and their effects\n",
        "- Learn about weighted KNN\n",
        "- Experiment with different distance metrics\n",
        "- Discuss scaling, complexity, and speedups (kd-tree, ball-tree)\n",
        "- Talk about challenges like imbalanced data and curse of dimensionality\n",
        "- Reflect on what I learned and when I’d actually use KNN in practice\n",
        "\"\"\"\n"
      ],
      "metadata": {
        "id": "bLrnRYwSnOP6"
      }
    },
    {
      "cell_type": "markdown",
      "source": [
        "# Quick Recap of what KNN does\n",
        "\n",
        "In my basic KNN notebook, I learned that KNN is a **lazy learner**:\n",
        "- It doesn’t build a traditional \"model\" during training.\n",
        "- It just stores the training data.\n",
        "- When a new data point comes, it finds the **k nearest neighbors** and predicts based on majority vote (classification) or average (regression).\n",
        "\n",
        "This was good to build **intuition**, but now I want to look at more **practical, advanced topics** like regression, distance metrics, scaling, and performance.\n"
      ],
      "metadata": {
        "id": "SUV-Tq0wbOFF"
      }
    },
    {
      "cell_type": "markdown",
      "source": [
        "# KNN for Regression (KNeighborsRegressor)\n",
        "\n",
        "Yes, KNN can also be used for **regression** problems where the output is continuous.  \n",
        "Instead of taking a majority vote, KNN regressor takes the **average of the k nearest neighbors' target values**.\n",
        "\n",
        "This is super intuitive — if you want to predict the house price in a new area,  \n",
        "you look at the prices of k most similar houses nearby and take the average.  \n",
        "That's exactly what KNN regression does.\n"
      ],
      "metadata": {
        "id": "4jC8FklSbcyJ"
      }
    },
    {
      "cell_type": "markdown",
      "source": [
        "**Simple KNN Regressor**"
      ],
      "metadata": {
        "id": "x38xN9CwbdY5"
      }
    },
    {
      "cell_type": "code",
      "source": [
        "from sklearn.datasets import make_regression\n",
        "from sklearn.model_selection import train_test_split\n",
        "from sklearn.neighbors import KNeighborsRegressor\n",
        "from sklearn.metrics import mean_squared_error, r2_score\n",
        "import matplotlib.pyplot as plt\n",
        "import numpy as np"
      ],
      "metadata": {
        "id": "2Z0GPtcVb_E0"
      },
      "execution_count": 1,
      "outputs": []
    },
    {
      "cell_type": "code",
      "source": [
        "# synthetic regression data (1 feature so we can visualize easily)\n",
        "X, y = make_regression(n_samples=100, n_features=1, noise=15, random_state=42)"
      ],
      "metadata": {
        "id": "4tZ8YxlrceDS"
      },
      "execution_count": 2,
      "outputs": []
    },
    {
      "cell_type": "code",
      "source": [
        "# Split into train-test\n",
        "X_train, X_test, y_train, y_test = train_test_split(X, y, test_size=0.2, random_state=42)"
      ],
      "metadata": {
        "id": "oVPHNyeZcjnb"
      },
      "execution_count": 3,
      "outputs": []
    },
    {
      "cell_type": "code",
      "source": [
        "# train a KNN Regressor\n",
        "knn_reg = KNeighborsRegressor(n_neighbors=5)\n",
        "knn_reg.fit(X_train, y_train)"
      ],
      "metadata": {
        "colab": {
          "base_uri": "https://localhost:8080/",
          "height": 80
        },
        "id": "sV4Wvb97cp7A",
        "outputId": "a167e547-187b-45ec-cde6-4a24ad223cf6"
      },
      "execution_count": 5,
      "outputs": [
        {
          "output_type": "execute_result",
          "data": {
            "text/plain": [
              "KNeighborsRegressor()"
            ],
            "text/html": [
              "<style>#sk-container-id-2 {\n",
              "  /* Definition of color scheme common for light and dark mode */\n",
              "  --sklearn-color-text: #000;\n",
              "  --sklearn-color-text-muted: #666;\n",
              "  --sklearn-color-line: gray;\n",
              "  /* Definition of color scheme for unfitted estimators */\n",
              "  --sklearn-color-unfitted-level-0: #fff5e6;\n",
              "  --sklearn-color-unfitted-level-1: #f6e4d2;\n",
              "  --sklearn-color-unfitted-level-2: #ffe0b3;\n",
              "  --sklearn-color-unfitted-level-3: chocolate;\n",
              "  /* Definition of color scheme for fitted estimators */\n",
              "  --sklearn-color-fitted-level-0: #f0f8ff;\n",
              "  --sklearn-color-fitted-level-1: #d4ebff;\n",
              "  --sklearn-color-fitted-level-2: #b3dbfd;\n",
              "  --sklearn-color-fitted-level-3: cornflowerblue;\n",
              "\n",
              "  /* Specific color for light theme */\n",
              "  --sklearn-color-text-on-default-background: var(--sg-text-color, var(--theme-code-foreground, var(--jp-content-font-color1, black)));\n",
              "  --sklearn-color-background: var(--sg-background-color, var(--theme-background, var(--jp-layout-color0, white)));\n",
              "  --sklearn-color-border-box: var(--sg-text-color, var(--theme-code-foreground, var(--jp-content-font-color1, black)));\n",
              "  --sklearn-color-icon: #696969;\n",
              "\n",
              "  @media (prefers-color-scheme: dark) {\n",
              "    /* Redefinition of color scheme for dark theme */\n",
              "    --sklearn-color-text-on-default-background: var(--sg-text-color, var(--theme-code-foreground, var(--jp-content-font-color1, white)));\n",
              "    --sklearn-color-background: var(--sg-background-color, var(--theme-background, var(--jp-layout-color0, #111)));\n",
              "    --sklearn-color-border-box: var(--sg-text-color, var(--theme-code-foreground, var(--jp-content-font-color1, white)));\n",
              "    --sklearn-color-icon: #878787;\n",
              "  }\n",
              "}\n",
              "\n",
              "#sk-container-id-2 {\n",
              "  color: var(--sklearn-color-text);\n",
              "}\n",
              "\n",
              "#sk-container-id-2 pre {\n",
              "  padding: 0;\n",
              "}\n",
              "\n",
              "#sk-container-id-2 input.sk-hidden--visually {\n",
              "  border: 0;\n",
              "  clip: rect(1px 1px 1px 1px);\n",
              "  clip: rect(1px, 1px, 1px, 1px);\n",
              "  height: 1px;\n",
              "  margin: -1px;\n",
              "  overflow: hidden;\n",
              "  padding: 0;\n",
              "  position: absolute;\n",
              "  width: 1px;\n",
              "}\n",
              "\n",
              "#sk-container-id-2 div.sk-dashed-wrapped {\n",
              "  border: 1px dashed var(--sklearn-color-line);\n",
              "  margin: 0 0.4em 0.5em 0.4em;\n",
              "  box-sizing: border-box;\n",
              "  padding-bottom: 0.4em;\n",
              "  background-color: var(--sklearn-color-background);\n",
              "}\n",
              "\n",
              "#sk-container-id-2 div.sk-container {\n",
              "  /* jupyter's `normalize.less` sets `[hidden] { display: none; }`\n",
              "     but bootstrap.min.css set `[hidden] { display: none !important; }`\n",
              "     so we also need the `!important` here to be able to override the\n",
              "     default hidden behavior on the sphinx rendered scikit-learn.org.\n",
              "     See: https://github.com/scikit-learn/scikit-learn/issues/21755 */\n",
              "  display: inline-block !important;\n",
              "  position: relative;\n",
              "}\n",
              "\n",
              "#sk-container-id-2 div.sk-text-repr-fallback {\n",
              "  display: none;\n",
              "}\n",
              "\n",
              "div.sk-parallel-item,\n",
              "div.sk-serial,\n",
              "div.sk-item {\n",
              "  /* draw centered vertical line to link estimators */\n",
              "  background-image: linear-gradient(var(--sklearn-color-text-on-default-background), var(--sklearn-color-text-on-default-background));\n",
              "  background-size: 2px 100%;\n",
              "  background-repeat: no-repeat;\n",
              "  background-position: center center;\n",
              "}\n",
              "\n",
              "/* Parallel-specific style estimator block */\n",
              "\n",
              "#sk-container-id-2 div.sk-parallel-item::after {\n",
              "  content: \"\";\n",
              "  width: 100%;\n",
              "  border-bottom: 2px solid var(--sklearn-color-text-on-default-background);\n",
              "  flex-grow: 1;\n",
              "}\n",
              "\n",
              "#sk-container-id-2 div.sk-parallel {\n",
              "  display: flex;\n",
              "  align-items: stretch;\n",
              "  justify-content: center;\n",
              "  background-color: var(--sklearn-color-background);\n",
              "  position: relative;\n",
              "}\n",
              "\n",
              "#sk-container-id-2 div.sk-parallel-item {\n",
              "  display: flex;\n",
              "  flex-direction: column;\n",
              "}\n",
              "\n",
              "#sk-container-id-2 div.sk-parallel-item:first-child::after {\n",
              "  align-self: flex-end;\n",
              "  width: 50%;\n",
              "}\n",
              "\n",
              "#sk-container-id-2 div.sk-parallel-item:last-child::after {\n",
              "  align-self: flex-start;\n",
              "  width: 50%;\n",
              "}\n",
              "\n",
              "#sk-container-id-2 div.sk-parallel-item:only-child::after {\n",
              "  width: 0;\n",
              "}\n",
              "\n",
              "/* Serial-specific style estimator block */\n",
              "\n",
              "#sk-container-id-2 div.sk-serial {\n",
              "  display: flex;\n",
              "  flex-direction: column;\n",
              "  align-items: center;\n",
              "  background-color: var(--sklearn-color-background);\n",
              "  padding-right: 1em;\n",
              "  padding-left: 1em;\n",
              "}\n",
              "\n",
              "\n",
              "/* Toggleable style: style used for estimator/Pipeline/ColumnTransformer box that is\n",
              "clickable and can be expanded/collapsed.\n",
              "- Pipeline and ColumnTransformer use this feature and define the default style\n",
              "- Estimators will overwrite some part of the style using the `sk-estimator` class\n",
              "*/\n",
              "\n",
              "/* Pipeline and ColumnTransformer style (default) */\n",
              "\n",
              "#sk-container-id-2 div.sk-toggleable {\n",
              "  /* Default theme specific background. It is overwritten whether we have a\n",
              "  specific estimator or a Pipeline/ColumnTransformer */\n",
              "  background-color: var(--sklearn-color-background);\n",
              "}\n",
              "\n",
              "/* Toggleable label */\n",
              "#sk-container-id-2 label.sk-toggleable__label {\n",
              "  cursor: pointer;\n",
              "  display: flex;\n",
              "  width: 100%;\n",
              "  margin-bottom: 0;\n",
              "  padding: 0.5em;\n",
              "  box-sizing: border-box;\n",
              "  text-align: center;\n",
              "  align-items: start;\n",
              "  justify-content: space-between;\n",
              "  gap: 0.5em;\n",
              "}\n",
              "\n",
              "#sk-container-id-2 label.sk-toggleable__label .caption {\n",
              "  font-size: 0.6rem;\n",
              "  font-weight: lighter;\n",
              "  color: var(--sklearn-color-text-muted);\n",
              "}\n",
              "\n",
              "#sk-container-id-2 label.sk-toggleable__label-arrow:before {\n",
              "  /* Arrow on the left of the label */\n",
              "  content: \"▸\";\n",
              "  float: left;\n",
              "  margin-right: 0.25em;\n",
              "  color: var(--sklearn-color-icon);\n",
              "}\n",
              "\n",
              "#sk-container-id-2 label.sk-toggleable__label-arrow:hover:before {\n",
              "  color: var(--sklearn-color-text);\n",
              "}\n",
              "\n",
              "/* Toggleable content - dropdown */\n",
              "\n",
              "#sk-container-id-2 div.sk-toggleable__content {\n",
              "  max-height: 0;\n",
              "  max-width: 0;\n",
              "  overflow: hidden;\n",
              "  text-align: left;\n",
              "  /* unfitted */\n",
              "  background-color: var(--sklearn-color-unfitted-level-0);\n",
              "}\n",
              "\n",
              "#sk-container-id-2 div.sk-toggleable__content.fitted {\n",
              "  /* fitted */\n",
              "  background-color: var(--sklearn-color-fitted-level-0);\n",
              "}\n",
              "\n",
              "#sk-container-id-2 div.sk-toggleable__content pre {\n",
              "  margin: 0.2em;\n",
              "  border-radius: 0.25em;\n",
              "  color: var(--sklearn-color-text);\n",
              "  /* unfitted */\n",
              "  background-color: var(--sklearn-color-unfitted-level-0);\n",
              "}\n",
              "\n",
              "#sk-container-id-2 div.sk-toggleable__content.fitted pre {\n",
              "  /* unfitted */\n",
              "  background-color: var(--sklearn-color-fitted-level-0);\n",
              "}\n",
              "\n",
              "#sk-container-id-2 input.sk-toggleable__control:checked~div.sk-toggleable__content {\n",
              "  /* Expand drop-down */\n",
              "  max-height: 200px;\n",
              "  max-width: 100%;\n",
              "  overflow: auto;\n",
              "}\n",
              "\n",
              "#sk-container-id-2 input.sk-toggleable__control:checked~label.sk-toggleable__label-arrow:before {\n",
              "  content: \"▾\";\n",
              "}\n",
              "\n",
              "/* Pipeline/ColumnTransformer-specific style */\n",
              "\n",
              "#sk-container-id-2 div.sk-label input.sk-toggleable__control:checked~label.sk-toggleable__label {\n",
              "  color: var(--sklearn-color-text);\n",
              "  background-color: var(--sklearn-color-unfitted-level-2);\n",
              "}\n",
              "\n",
              "#sk-container-id-2 div.sk-label.fitted input.sk-toggleable__control:checked~label.sk-toggleable__label {\n",
              "  background-color: var(--sklearn-color-fitted-level-2);\n",
              "}\n",
              "\n",
              "/* Estimator-specific style */\n",
              "\n",
              "/* Colorize estimator box */\n",
              "#sk-container-id-2 div.sk-estimator input.sk-toggleable__control:checked~label.sk-toggleable__label {\n",
              "  /* unfitted */\n",
              "  background-color: var(--sklearn-color-unfitted-level-2);\n",
              "}\n",
              "\n",
              "#sk-container-id-2 div.sk-estimator.fitted input.sk-toggleable__control:checked~label.sk-toggleable__label {\n",
              "  /* fitted */\n",
              "  background-color: var(--sklearn-color-fitted-level-2);\n",
              "}\n",
              "\n",
              "#sk-container-id-2 div.sk-label label.sk-toggleable__label,\n",
              "#sk-container-id-2 div.sk-label label {\n",
              "  /* The background is the default theme color */\n",
              "  color: var(--sklearn-color-text-on-default-background);\n",
              "}\n",
              "\n",
              "/* On hover, darken the color of the background */\n",
              "#sk-container-id-2 div.sk-label:hover label.sk-toggleable__label {\n",
              "  color: var(--sklearn-color-text);\n",
              "  background-color: var(--sklearn-color-unfitted-level-2);\n",
              "}\n",
              "\n",
              "/* Label box, darken color on hover, fitted */\n",
              "#sk-container-id-2 div.sk-label.fitted:hover label.sk-toggleable__label.fitted {\n",
              "  color: var(--sklearn-color-text);\n",
              "  background-color: var(--sklearn-color-fitted-level-2);\n",
              "}\n",
              "\n",
              "/* Estimator label */\n",
              "\n",
              "#sk-container-id-2 div.sk-label label {\n",
              "  font-family: monospace;\n",
              "  font-weight: bold;\n",
              "  display: inline-block;\n",
              "  line-height: 1.2em;\n",
              "}\n",
              "\n",
              "#sk-container-id-2 div.sk-label-container {\n",
              "  text-align: center;\n",
              "}\n",
              "\n",
              "/* Estimator-specific */\n",
              "#sk-container-id-2 div.sk-estimator {\n",
              "  font-family: monospace;\n",
              "  border: 1px dotted var(--sklearn-color-border-box);\n",
              "  border-radius: 0.25em;\n",
              "  box-sizing: border-box;\n",
              "  margin-bottom: 0.5em;\n",
              "  /* unfitted */\n",
              "  background-color: var(--sklearn-color-unfitted-level-0);\n",
              "}\n",
              "\n",
              "#sk-container-id-2 div.sk-estimator.fitted {\n",
              "  /* fitted */\n",
              "  background-color: var(--sklearn-color-fitted-level-0);\n",
              "}\n",
              "\n",
              "/* on hover */\n",
              "#sk-container-id-2 div.sk-estimator:hover {\n",
              "  /* unfitted */\n",
              "  background-color: var(--sklearn-color-unfitted-level-2);\n",
              "}\n",
              "\n",
              "#sk-container-id-2 div.sk-estimator.fitted:hover {\n",
              "  /* fitted */\n",
              "  background-color: var(--sklearn-color-fitted-level-2);\n",
              "}\n",
              "\n",
              "/* Specification for estimator info (e.g. \"i\" and \"?\") */\n",
              "\n",
              "/* Common style for \"i\" and \"?\" */\n",
              "\n",
              ".sk-estimator-doc-link,\n",
              "a:link.sk-estimator-doc-link,\n",
              "a:visited.sk-estimator-doc-link {\n",
              "  float: right;\n",
              "  font-size: smaller;\n",
              "  line-height: 1em;\n",
              "  font-family: monospace;\n",
              "  background-color: var(--sklearn-color-background);\n",
              "  border-radius: 1em;\n",
              "  height: 1em;\n",
              "  width: 1em;\n",
              "  text-decoration: none !important;\n",
              "  margin-left: 0.5em;\n",
              "  text-align: center;\n",
              "  /* unfitted */\n",
              "  border: var(--sklearn-color-unfitted-level-1) 1pt solid;\n",
              "  color: var(--sklearn-color-unfitted-level-1);\n",
              "}\n",
              "\n",
              ".sk-estimator-doc-link.fitted,\n",
              "a:link.sk-estimator-doc-link.fitted,\n",
              "a:visited.sk-estimator-doc-link.fitted {\n",
              "  /* fitted */\n",
              "  border: var(--sklearn-color-fitted-level-1) 1pt solid;\n",
              "  color: var(--sklearn-color-fitted-level-1);\n",
              "}\n",
              "\n",
              "/* On hover */\n",
              "div.sk-estimator:hover .sk-estimator-doc-link:hover,\n",
              ".sk-estimator-doc-link:hover,\n",
              "div.sk-label-container:hover .sk-estimator-doc-link:hover,\n",
              ".sk-estimator-doc-link:hover {\n",
              "  /* unfitted */\n",
              "  background-color: var(--sklearn-color-unfitted-level-3);\n",
              "  color: var(--sklearn-color-background);\n",
              "  text-decoration: none;\n",
              "}\n",
              "\n",
              "div.sk-estimator.fitted:hover .sk-estimator-doc-link.fitted:hover,\n",
              ".sk-estimator-doc-link.fitted:hover,\n",
              "div.sk-label-container:hover .sk-estimator-doc-link.fitted:hover,\n",
              ".sk-estimator-doc-link.fitted:hover {\n",
              "  /* fitted */\n",
              "  background-color: var(--sklearn-color-fitted-level-3);\n",
              "  color: var(--sklearn-color-background);\n",
              "  text-decoration: none;\n",
              "}\n",
              "\n",
              "/* Span, style for the box shown on hovering the info icon */\n",
              ".sk-estimator-doc-link span {\n",
              "  display: none;\n",
              "  z-index: 9999;\n",
              "  position: relative;\n",
              "  font-weight: normal;\n",
              "  right: .2ex;\n",
              "  padding: .5ex;\n",
              "  margin: .5ex;\n",
              "  width: min-content;\n",
              "  min-width: 20ex;\n",
              "  max-width: 50ex;\n",
              "  color: var(--sklearn-color-text);\n",
              "  box-shadow: 2pt 2pt 4pt #999;\n",
              "  /* unfitted */\n",
              "  background: var(--sklearn-color-unfitted-level-0);\n",
              "  border: .5pt solid var(--sklearn-color-unfitted-level-3);\n",
              "}\n",
              "\n",
              ".sk-estimator-doc-link.fitted span {\n",
              "  /* fitted */\n",
              "  background: var(--sklearn-color-fitted-level-0);\n",
              "  border: var(--sklearn-color-fitted-level-3);\n",
              "}\n",
              "\n",
              ".sk-estimator-doc-link:hover span {\n",
              "  display: block;\n",
              "}\n",
              "\n",
              "/* \"?\"-specific style due to the `<a>` HTML tag */\n",
              "\n",
              "#sk-container-id-2 a.estimator_doc_link {\n",
              "  float: right;\n",
              "  font-size: 1rem;\n",
              "  line-height: 1em;\n",
              "  font-family: monospace;\n",
              "  background-color: var(--sklearn-color-background);\n",
              "  border-radius: 1rem;\n",
              "  height: 1rem;\n",
              "  width: 1rem;\n",
              "  text-decoration: none;\n",
              "  /* unfitted */\n",
              "  color: var(--sklearn-color-unfitted-level-1);\n",
              "  border: var(--sklearn-color-unfitted-level-1) 1pt solid;\n",
              "}\n",
              "\n",
              "#sk-container-id-2 a.estimator_doc_link.fitted {\n",
              "  /* fitted */\n",
              "  border: var(--sklearn-color-fitted-level-1) 1pt solid;\n",
              "  color: var(--sklearn-color-fitted-level-1);\n",
              "}\n",
              "\n",
              "/* On hover */\n",
              "#sk-container-id-2 a.estimator_doc_link:hover {\n",
              "  /* unfitted */\n",
              "  background-color: var(--sklearn-color-unfitted-level-3);\n",
              "  color: var(--sklearn-color-background);\n",
              "  text-decoration: none;\n",
              "}\n",
              "\n",
              "#sk-container-id-2 a.estimator_doc_link.fitted:hover {\n",
              "  /* fitted */\n",
              "  background-color: var(--sklearn-color-fitted-level-3);\n",
              "}\n",
              "</style><div id=\"sk-container-id-2\" class=\"sk-top-container\"><div class=\"sk-text-repr-fallback\"><pre>KNeighborsRegressor()</pre><b>In a Jupyter environment, please rerun this cell to show the HTML representation or trust the notebook. <br />On GitHub, the HTML representation is unable to render, please try loading this page with nbviewer.org.</b></div><div class=\"sk-container\" hidden><div class=\"sk-item\"><div class=\"sk-estimator fitted sk-toggleable\"><input class=\"sk-toggleable__control sk-hidden--visually\" id=\"sk-estimator-id-2\" type=\"checkbox\" checked><label for=\"sk-estimator-id-2\" class=\"sk-toggleable__label fitted sk-toggleable__label-arrow\"><div><div>KNeighborsRegressor</div></div><div><a class=\"sk-estimator-doc-link fitted\" rel=\"noreferrer\" target=\"_blank\" href=\"https://scikit-learn.org/1.6/modules/generated/sklearn.neighbors.KNeighborsRegressor.html\">?<span>Documentation for KNeighborsRegressor</span></a><span class=\"sk-estimator-doc-link fitted\">i<span>Fitted</span></span></div></label><div class=\"sk-toggleable__content fitted\"><pre>KNeighborsRegressor()</pre></div> </div></div></div></div>"
            ]
          },
          "metadata": {},
          "execution_count": 5
        }
      ]
    },
    {
      "cell_type": "code",
      "source": [
        "# Predictions\n",
        "y_pred = knn_reg.predict(X_test)"
      ],
      "metadata": {
        "id": "aRC3nhixcylr"
      },
      "execution_count": 6,
      "outputs": []
    },
    {
      "cell_type": "code",
      "source": [
        "# evaluate\n",
        "print(\" Mean Squared Error:\", mean_squared_error(y_test, y_pred))\n",
        "print(\" R² Score:\", r2_score(y_test, y_pred))"
      ],
      "metadata": {
        "colab": {
          "base_uri": "https://localhost:8080/"
        },
        "id": "HBLyIgNKdA-9",
        "outputId": "82dd7af8-ee96-4409-d911-adca7fba3758"
      },
      "execution_count": 9,
      "outputs": [
        {
          "output_type": "stream",
          "name": "stdout",
          "text": [
            " Mean Squared Error: 239.813691338355\n",
            " R² Score: 0.8713245407583777\n"
          ]
        }
      ]
    },
    {
      "cell_type": "code",
      "source": [
        "# Visualization\n",
        "# Sort values for a smooth line\n",
        "sorted_idx = np.argsort(X_test.flatten())\n",
        "plt.scatter(X_train, y_train, color=\"blue\", label=\"Training Data\")\n",
        "plt.scatter(X_test, y_test, color=\"red\", label=\"Test Data\")\n",
        "plt.plot(X_test[sorted_idx], y_pred[sorted_idx], color=\"green\", label=\"KNN Predictions\")\n",
        "plt.title(\"KNN Regressor (k=5)\")\n",
        "plt.xlabel(\"Feature (X)\")\n",
        "plt.ylabel(\"Target (y)\")\n",
        "plt.legend()\n",
        "plt.show()"
      ],
      "metadata": {
        "colab": {
          "base_uri": "https://localhost:8080/",
          "height": 472
        },
        "id": "fdOe0WrRdND7",
        "outputId": "683b0b7b-3f94-49e1-83b2-d49bb2663b09"
      },
      "execution_count": 10,
      "outputs": [
        {
          "output_type": "display_data",
          "data": {
            "text/plain": [
              "<Figure size 640x480 with 1 Axes>"
            ],
            "image/png": "[encoded data removed]"
          },
          "metadata": {}
        }
      ]
    },
    {
      "cell_type": "markdown",
      "source": [
        "# My Takeaways\n",
        "\n",
        "- KNN regressor is **super simple** but surprisingly powerful for small, smooth datasets.\n",
        "- I can clearly see how the prediction line is \"piecewise\" — it’s not a perfect curve but adjusts based on local neighbors.\n",
        "- The choice of k matters a lot:\n",
        "  - Small k (say 1)→ very wiggly prediction (can overfit).\n",
        "  - Large k (say n(Total data point))→ smoother prediction (can underfit).\n",
        "\n",
        "I love this experiment because I can **see** the effect visually — this helps me truly \"get it.\""
      ],
      "metadata": {
        "id": "vz5fyLYjdaxy"
      }
    },
    {
      "cell_type": "markdown",
      "source": [
        "# Understanding KNN Hyperparameters\n",
        "\n",
        "KNN is a very \"parameter-driven\" algorithm — its performance can change drastically depending on a few key choices.  \n",
        "Here are the most important hyperparameters you should know:\n",
        "\n",
        "- **n_neighbors (k):** Number of neighbors to consider.  \n",
        "- **weights:** How to weight neighbors — equally or based on distance.  \n",
        "- **p:** Power parameter for the distance metric  \n",
        "  - p=2 → Euclidean Distance  \n",
        "  - p=1 → Manhattan Distance  \n",
        "- **algorithm:** This decides how the neighbors are actually searched under the hood.  \n",
        "  - **brute:** Compares every point one by one (slow for large datasets).  \n",
        "  - **kd_tree / ball_tree:** Use clever tree data structures to make neighbor search faster — works best in low to medium dimensions.  \n",
        "  - **auto:** Lets sklearn pick the best option for you (safe default).  \n",
        "\n",
        "- **leaf_size:** A tuning parameter that controls how deep the kd-tree or ball-tree is built.  \n",
        "  - Smaller leaf_size → deeper tree (faster query, but more memory).  \n",
        "  - Larger leaf_size → shallower tree (less memory, slower query).  \n",
        "  - Honestly, I usually leave this to the default unless I am optimizing for speed.\n"
      ],
      "metadata": {
        "id": "Uhj4UmEuffpA"
      }
    },
    {
      "cell_type": "markdown",
      "source": [
        "**Experiment 1 : Effect of K (n_neighbours)**"
      ],
      "metadata": {
        "id": "dpHS-4Ref2bn"
      }
    },
    {
      "cell_type": "code",
      "source": [
        "from sklearn.metrics import mean_squared_error\n",
        "\n",
        "K_values = [1,3,5,7,10,15,20,50]\n",
        "mse_scores = []\n",
        "\n",
        "for k in K_values :\n",
        "  knn_reg = KNeighborsRegressor(n_neighbors= k)\n",
        "  knn_reg.fit(X_train ,y_train)\n",
        "  y_pred = knn_reg.predict(X_test)\n",
        "  mse_scores.append(mean_squared_error(y_test ,y_pred))\n",
        "\n",
        "# plot\n",
        "plt.figure(figsize = (7,4))\n",
        "plt.plot(K_values ,mse_scores ,marker= 'o')\n",
        "plt.title(\"Effect of k on MSE\")\n",
        "plt.xlabel(\"Number of Neighbors (k)\")\n",
        "plt.ylabel(\" Mean Squared Error\")\n",
        "plt.grid()\n",
        "plt.show()"
      ],
      "metadata": {
        "colab": {
          "base_uri": "https://localhost:8080/",
          "height": 395
        },
        "id": "q717zwnadWS0",
        "outputId": "60ec6eb9-df31-4726-e1f5-c3c30fa5978b"
      },
      "execution_count": 13,
      "outputs": [
        {
          "output_type": "display_data",
          "data": {
            "text/plain": [
              "<Figure size 700x400 with 1 Axes>"
            ],
            "image/png": "[encoded data removed]"
          },
          "metadata": {}
        }
      ]
    },
    {
      "cell_type": "markdown",
      "source": [
        "# My Thoughts on Choosing k\n",
        "\n",
        "- When **k is very small (e.g. 1)**, the model becomes very sensitive to noise → low bias, high variance (Overfitting).\n",
        "- When **k is very large**, the model becomes too smooth → high bias, low variance (Underfitting).\n",
        "- This is basically the **bias-variance tradeoff** in action!  \n",
        "- I will use either cross-validation or this kind of plot to pick the \"sweet spot\" for k."
      ],
      "metadata": {
        "id": "llyK-g6ghlj4"
      }
    },
    {
      "cell_type": "markdown",
      "source": [
        "**Experiment 2: Uniform vs Distance Weights**"
      ],
      "metadata": {
        "id": "htdj9jpjh3fc"
      }
    },
    {
      "cell_type": "code",
      "source": [
        "weights_options = ['uniform', 'distance']\n",
        "mse_weighted = []\n",
        "\n",
        "for w in weights_options:\n",
        "    knn_reg = KNeighborsRegressor(n_neighbors=5, weights=w)\n",
        "    knn_reg.fit(X_train, y_train)\n",
        "    y_pred = knn_reg.predict(X_test)\n",
        "    mse_weighted.append(mean_squared_error(y_test, y_pred))\n",
        "\n",
        "plt.bar(weights_options, mse_weighted, color=['skyblue','orange'])\n",
        "plt.title(\"Uniform vs Distance Weights (MSE)\")\n",
        "plt.ylabel(\"Mean Squared Error\")\n",
        "plt.show()"
      ],
      "metadata": {
        "colab": {
          "base_uri": "https://localhost:8080/",
          "height": 452
        },
        "id": "sE8dWAbzhAaX",
        "outputId": "c001975e-d673-46e9-cb45-4338b816cddc"
      },
      "execution_count": 14,
      "outputs": [
        {
          "output_type": "display_data",
          "data": {
            "text/plain": [
              "<Figure size 640x480 with 1 Axes>"
            ],
            "image/png": "[encoded data removed]"
          },
          "metadata": {}
        }
      ]
    },
    {
      "cell_type": "markdown",
      "source": [
        "# Intuition about Weights\n",
        "\n",
        "- **Uniform weights:** Here all neighbors are treated equally, no matter how far they are.\n",
        "- **Distance weights:** Closer neighbors have **more influence** than far ones.\n",
        "- This makes sense in real life — if I am predicting house prices, houses closer to my target should matter more.\n",
        "- In many datasets, distance-weighted KNN performs better. But I always try both to see which one fits better."
      ],
      "metadata": {
        "id": "Doo8gG7LiLvn"
      }
    },
    {
      "cell_type": "markdown",
      "source": [
        "**Experiment 3: Distance Metrics (p=1 vs p=2)**"
      ],
      "metadata": {
        "id": "EQeLRSRoiU0R"
      }
    },
    {
      "cell_type": "code",
      "source": [
        "p_values = [1, 2]  # Manhattan vs Euclidean : if p = 1 (Manhattan) , p = 2 (Euclidean)\n",
        "mse_p = []\n",
        "\n",
        "for p in p_values:\n",
        "    knn_reg = KNeighborsRegressor(n_neighbors=5, p=p)\n",
        "    knn_reg.fit(X_train, y_train)\n",
        "    y_pred = knn_reg.predict(X_test)\n",
        "    mse_p.append(mean_squared_error(y_test, y_pred))\n",
        "\n",
        "plt.bar(['Manhattan (p=1)', 'Euclidean (p=2)'], mse_p, color=['purple','green'])\n",
        "plt.title(\"Effect of Distance Metric on MSE\")\n",
        "plt.ylabel(\"Mean Squared Error\")\n",
        "plt.show()"
      ],
      "metadata": {
        "colab": {
          "base_uri": "https://localhost:8080/",
          "height": 452
        },
        "id": "ZpDZI41ciXuV",
        "outputId": "ca7e1545-acb6-4d6b-9cbf-e31d7692d07c"
      },
      "execution_count": 15,
      "outputs": [
        {
          "output_type": "display_data",
          "data": {
            "text/plain": [
              "<Figure size 640x480 with 1 Axes>"
            ],
            "image/png": "[encoded data removed]"
          },
          "metadata": {}
        }
      ]
    },
    {
      "cell_type": "markdown",
      "source": [
        "# When to Use Which Distance Metric?\n",
        "\n",
        "- **Euclidean (p=2):** Best when features are continuous and data is well-scaled.\n",
        "- **Manhattan (p=1):** Better for high-dimensional or sparse data, because it is less sensitive to outliers.\n",
        "- Example: In a grid-like city (like Manhattan (Idea from where Manhattan distance came from ), you can't walk diagonally → so Manhattan distance makes sense there."
      ],
      "metadata": {
        "id": "jMDVKYSJi01X"
      }
    },
    {
      "cell_type": "markdown",
      "source": [
        "# My Key Takeaways So Far\n",
        "\n",
        "1. KNN is **not a \"set and forget\" algorithm** — tuning k, weights, and distance metric really matters.\n",
        "2. Picking k is like finding a balance between **underfitting** and **overfitting**.\n",
        "3. Distance-weighted KNN often performs better in practice, because closer neighbors should count more.\n",
        "4. Choice of distance metric depends on data type and scale — I will always scale data before using KNN.\n",
        "\n",
        "This section made me realize why hyperparameter tuning (GridSearchCV, RandomizedSearchCV) is not optional for KNN — it’s necessary!"
      ],
      "metadata": {
        "id": "ITktNk_PjYuT"
      }
    },
    {
      "cell_type": "code",
      "source": [],
      "metadata": {
        "id": "WefziDkuiucj"
      },
      "execution_count": null,
      "outputs": []
    }
  ]
}