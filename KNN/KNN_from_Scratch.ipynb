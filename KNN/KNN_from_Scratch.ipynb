{
  "nbformat": 4,
  "nbformat_minor": 0,
  "metadata": {
    "colab": {
      "provenance": [],
      "authorship_tag": "ABX9TyMJfLViDG6y877joGDOY1HB",
      "include_colab_link": true
    },
    "kernelspec": {
      "name": "python3",
      "display_name": "Python 3"
    },
    "language_info": {
      "name": "python"
    }
  },
  "cells": [
    {
      "cell_type": "markdown",
      "metadata": {
        "id": "view-in-github",
        "colab_type": "text"
      },
      "source": [
        "<a href=\"https://colab.research.google.com/github/Aman-sys-ui/Machine_Learning/blob/main/KNN/KNN_from_Scratch.ipynb\" target=\"_parent\"><img src=\"https://colab.research.google.com/assets/colab-badge.svg\" alt=\"Open In Colab\"/></a>"
      ]
    },
    {
      "cell_type": "markdown",
      "source": [
        "# Working of K-Nearest Neighbors (KNN)\n",
        "\n",
        "KNN is one of the simplest yet surprisingly powerful algorithms in Machine Learning.  \n",
        "Instead of learning an explicit function, it makes predictions by **looking at the closest data points in the training set**.\n",
        "\n",
        "---\n",
        "\n",
        "## Intuition\n",
        "Imagine moving into a new neighborhood.  \n",
        "If you want to know which sports you might like, you could simply ask your *k* nearest neighbors.  \n",
        "- If most of them play football, chances are you will too.  \n",
        "- If most of them play basketball, you’ll likely pick that.  \n",
        "\n",
        "KNN works in the same way: **the majority class (for classification) or the average value (for regression) of the closest neighbors determines the prediction**.\n",
        "\n",
        "---\n",
        "\n",
        "## Steps of KNN\n",
        "1. **Store all the training data** (KNN is a \"lazy learner\" – it doesn’t build a model in advance).  \n",
        "2. **Choose a value of `k`** (number of neighbors to consider).  \n",
        "3. **For a new data point:**\n",
        "   - Compute its distance from all training points.  \n",
        "   - Pick the *k* nearest neighbors.  \n",
        "4. **Prediction:**\n",
        "   - For **classification** → majority vote of neighbors.  \n",
        "   - For **regression** → take the average of neighbors.  \n",
        "\n",
        "---\n",
        "\n",
        "## Distance Metric\n",
        "The most common is **Euclidean distance**:\n",
        "\n",
        "\\[\n",
        "d(x, y) = \\sqrt{\\sum_{i=1}^n (x_i - y_i)^2}\n",
        "\\]\n",
        "\n",
        "Other choices include Manhattan distance, Minkowski distance, or Cosine similarity, depending on the problem.\n",
        "\n",
        "---\n",
        "\n",
        "## Key Points to Remember\n",
        "- Small `k` → high variance, more sensitive to noise (risk of overfitting).  \n",
        "- Large `k` → smoother boundaries, but risk of underfitting.  \n",
        "- Feature scaling (e.g., StandardScaler/MinMaxScaler) is essential since distances are affected by different scales.  \n",
        "\n",
        "---\n",
        "\n",
        "Now that we understand how KNN works, let’s **implement it from scratch** step by step!\n"
      ],
      "metadata": {
        "id": "izQyWvdrs92t"
      }
    },
    {
      "cell_type": "code",
      "execution_count": null,
      "metadata": {
        "id": "yC8Ay1odogMW"
      },
      "outputs": [],
      "source": [
        "import numpy as np\n",
        "from collections import Counter\n",
        "\n",
        "class CustomKNN:\n",
        "    \"\"\"\n",
        "    A simple K-Nearest Neighbors (KNN) implementation from scratch.\n",
        "    Written for learning purposes.\n",
        "    \"\"\"\n",
        "\n",
        "    def __init__(self, k=5):\n",
        "        # number of neighbors to look at\n",
        "        self.k = k\n",
        "        self.X_train = None\n",
        "        self.y_train = None\n",
        "\n",
        "    def fit(self, X_train, y_train):\n",
        "        \"\"\"\n",
        "        Just store the training data.\n",
        "        KNN doesn’t actually \"learn\" a model,\n",
        "        it just remembers the data.\n",
        "        \"\"\"\n",
        "        self.X_train = X_train\n",
        "        self.y_train = y_train\n",
        "\n",
        "    def predict(self, X_test):\n",
        "        \"\"\"\n",
        "        Predict labels for test points.\n",
        "        For each test sample:\n",
        "          1. calculate distances to all training points\n",
        "          2. pick the k closest neighbors\n",
        "          3. return the majority label\n",
        "        \"\"\"\n",
        "        predictions = []\n",
        "\n",
        "        for test_point in X_test:\n",
        "            # Step 1: calculate distances from this test point to all training points\n",
        "            distances = [self.calculate_distance(test_point, x) for x in self.X_train]\n",
        "\n",
        "            # Step 2: sort distances and get indices of k nearest neighbors\n",
        "            k_indices = np.argsort(distances)[:self.k]\n",
        "\n",
        "            # Step 3: find the labels of these k neighbors\n",
        "            k_neighbor_labels = [self.y_train[i] for i in k_indices]\n",
        "\n",
        "            # Step 4: majority vote\n",
        "            label = self.majority_vote(k_neighbor_labels)\n",
        "            predictions.append(label)\n",
        "\n",
        "        return np.array(predictions)\n",
        "\n",
        "    def calculate_distance(self, point_A, point_B):\n",
        "        \"\"\"\n",
        "        Euclidean distance between two points.\n",
        "        \"\"\"\n",
        "        return np.linalg.norm(point_A - point_B)\n",
        "\n",
        "    def majority_vote(self, neighbor_labels):\n",
        "        \"\"\"\n",
        "        Return the most common label among the k neighbors.\n",
        "        \"\"\"\n",
        "        votes = Counter(neighbor_labels)\n",
        "        return votes.most_common(1)[0][0]\n"
      ]
    }
  ]
}