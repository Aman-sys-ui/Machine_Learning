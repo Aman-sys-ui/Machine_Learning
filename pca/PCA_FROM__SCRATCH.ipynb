{
  "nbformat": 4,
  "nbformat_minor": 0,
  "metadata": {
    "colab": {
      "provenance": [],
      "authorship_tag": "ABX9TyO0toRrhYu4mMJXICaSYPDV"
    },
    "kernelspec": {
      "name": "python3",
      "display_name": "Python 3"
    },
    "language_info": {
      "name": "python"
    }
  },
  "cells": [
    {
      "cell_type": "markdown",
      "source": [
        "# PCA From Scratch\n",
        "\n",
        "In this notebook, I’ll implement **Principal Component Analysis (PCA)** completely from scratch, using only **NumPy**.  \n",
        "\n",
        "**Goal:** understand *how PCA actually works under the hood*, not just how to call `sklearn.decomposition.PCA`.  \n",
        "\n",
        "---\n",
        "\n",
        "## Step-by-Step Implementation Plan  \n",
        "\n",
        "### Step 1: Import & Load Data  \n",
        "- Use the **Digits dataset** (64 features) or create a **synthetic dataset**.  \n",
        "\n",
        "### Step 2: Standardization  \n",
        "- Center the data (zero mean per feature).  \n",
        "- (Optionally) scale to unit variance if features are on different scales.  \n",
        "\n",
        "### Step 3: Compute Covariance Matrix  \n",
        "- Derive covariance manually using NumPy:  \n",
        "  \\[\n",
        "  \\Sigma = \\frac{1}{n-1} X^\\top X\n",
        "  \\]  \n",
        "\n",
        "### Step 4: Eigen Decomposition  \n",
        "- Use `np.linalg.eig` or `np.linalg.svd`.  \n",
        "- Extract **eigenvalues (variance explained)** and **eigenvectors (directions)**.  \n",
        "\n",
        "### Step 5: Sort Eigenvalues  \n",
        "- Sort in descending order.  \n",
        "- Select top *k* eigenvectors (principal components).  \n",
        "\n",
        "### Step 6: Project Data  \n",
        "- Transform original dataset into reduced space using the selected components.  \n",
        "\n",
        "### Step 7: Compare with sklearn PCA  \n",
        "- Validate results against `sklearn.decomposition.PCA` to confirm correctness.  \n",
        "\n",
        "---\n",
        "\n",
        "By the end, we’ll have a **working PCA implementation from scratch** and confirm that it matches scikit-learn’s PCA."
      ],
      "metadata": {
        "id": "WpoJvX8rzJo9"
      }
    },
    {
      "cell_type": "code",
      "execution_count": 1,
      "metadata": {
        "id": "HkSiBIXhyQ5F"
      },
      "outputs": [],
      "source": [
        "import numpy as np\n",
        "\n",
        "class MyPCA:\n",
        "    \"\"\"\n",
        "    A simple PCA (Principal Component Analysis) implementation from scratch using NumPy.\n",
        "\n",
        "    Parameters\n",
        "    ----------\n",
        "    n_components : int, optional\n",
        "        Number of principal components to keep.\n",
        "        If None, all components are kept.\n",
        "    \"\"\"\n",
        "\n",
        "    def __init__(self, n_components=None):\n",
        "        self.n_components = n_components\n",
        "        self.components_ = None\n",
        "        self.explained_variance_ = None\n",
        "        self.mean_ = None\n",
        "\n",
        "    def fit(self, X):\n",
        "        \"\"\"\n",
        "        Fit the PCA model on dataset X.\n",
        "\n",
        "        Steps:\n",
        "        1. Center the data (subtract mean).\n",
        "        2. Compute covariance matrix.\n",
        "        3. Perform eigen decomposition.\n",
        "        4. Sort eigenvalues & eigenvectors.\n",
        "        5. Keep the top n_components.\n",
        "        \"\"\"\n",
        "\n",
        "        # Step 1: Center the data\n",
        "        self.mean_ = np.mean(X, axis=0)\n",
        "        X_centered = X - self.mean_\n",
        "\n",
        "        # Step 2: Covariance matrix\n",
        "        cov_matrix = np.cov(X_centered, rowvar=False)\n",
        "\n",
        "        # Step 3: Eigen decomposition (since covariance is symmetric, use eigh)\n",
        "        eigenvalues, eigenvectors = np.linalg.eigh(cov_matrix)\n",
        "\n",
        "        # Step 4: Sort eigenvalues (largest -> smallest)\n",
        "        sorted_idx = np.argsort(eigenvalues)[::-1]\n",
        "        eigenvalues = eigenvalues[sorted_idx]\n",
        "        eigenvectors = eigenvectors[:, sorted_idx]\n",
        "\n",
        "        # Step 5: Store top n_components\n",
        "        if self.n_components is not None:\n",
        "            eigenvectors = eigenvectors[:, :self.n_components]\n",
        "            eigenvalues = eigenvalues[:self.n_components]\n",
        "\n",
        "        self.components_ = eigenvectors\n",
        "        self.explained_variance_ = eigenvalues\n",
        "        return self\n",
        "\n",
        "    def transform(self, X):\n",
        "        \"\"\"\n",
        "        Project the dataset X onto the principal components.\n",
        "        \"\"\"\n",
        "        X_centered = X - self.mean_\n",
        "        return np.dot(X_centered, self.components_)\n",
        "\n",
        "    def fit_transform(self, X):\n",
        "        \"\"\"\n",
        "        Fit the model and return the transformed dataset in one step.\n",
        "        \"\"\"\n",
        "        return self.fit(X).transform(X)"
      ]
    },
    {
      "cell_type": "markdown",
      "source": [
        "## Compare MyPCA vs Scikit-learn PCA"
      ],
      "metadata": {
        "id": "fzH-li_o0R5L"
      }
    },
    {
      "cell_type": "code",
      "source": [],
      "metadata": {
        "id": "WWxfeQa70QLw"
      },
      "execution_count": null,
      "outputs": []
    }
  ]
}